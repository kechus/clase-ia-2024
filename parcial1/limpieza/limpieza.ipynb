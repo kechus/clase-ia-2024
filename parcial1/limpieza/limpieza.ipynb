{
 "cells": [
  {
   "attachments": {},
   "cell_type": "markdown",
   "metadata": {},
   "source": [
    "# Descripción del dataset\n",
    "[Dataset](https://www.kaggle.com/datasets/kumarajarshi/life-expectancy-who) de la esperanza de vida en varios paises, recopilados por el World Health Organization (WHO) y las naciones unidas, inclue datos de factores que afectan a la esperanza de vida para poder encontrar correlaciones.\n"
   ]
  },
  {
   "attachments": {},
   "cell_type": "markdown",
   "metadata": {},
   "source": [
    "# A. Resumen de los datos: dimensiones y estructuras"
   ]
  },
  {
   "cell_type": "code",
   "execution_count": 18,
   "metadata": {
    "tags": []
   },
   "outputs": [],
   "source": [
    "import pandas as pd\n",
    "import numpy as np"
   ]
  },
  {
   "cell_type": "code",
   "execution_count": 19,
   "metadata": {
    "tags": []
   },
   "outputs": [],
   "source": [
    "fullpath = \"/home/kechus/Develop/pitonisa/ia/LifeExpectancyData.csv\""
   ]
  },
  {
   "cell_type": "code",
   "execution_count": 20,
   "metadata": {
    "tags": []
   },
   "outputs": [],
   "source": [
    "df = pd.read_csv(fullpath)"
   ]
  },
  {
   "cell_type": "code",
   "execution_count": 21,
   "metadata": {
    "tags": []
   },
   "outputs": [
    {
     "data": {
      "text/html": [
       "<div>\n",
       "<style scoped>\n",
       "    .dataframe tbody tr th:only-of-type {\n",
       "        vertical-align: middle;\n",
       "    }\n",
       "\n",
       "    .dataframe tbody tr th {\n",
       "        vertical-align: top;\n",
       "    }\n",
       "\n",
       "    .dataframe thead th {\n",
       "        text-align: right;\n",
       "    }\n",
       "</style>\n",
       "<table border=\"1\" class=\"dataframe\">\n",
       "  <thead>\n",
       "    <tr style=\"text-align: right;\">\n",
       "      <th></th>\n",
       "      <th>Country</th>\n",
       "      <th>Year</th>\n",
       "      <th>Status</th>\n",
       "      <th>Life expectancy</th>\n",
       "      <th>Adult Mortality</th>\n",
       "      <th>infant deaths</th>\n",
       "      <th>Alcohol</th>\n",
       "      <th>percentage expenditure</th>\n",
       "      <th>Hepatitis B</th>\n",
       "      <th>Measles</th>\n",
       "      <th>...</th>\n",
       "      <th>Polio</th>\n",
       "      <th>Total expenditure</th>\n",
       "      <th>Diphtheria</th>\n",
       "      <th>HIV/AIDS</th>\n",
       "      <th>GDP</th>\n",
       "      <th>Population</th>\n",
       "      <th>thinness  1-19 years</th>\n",
       "      <th>thinness 5-9 years</th>\n",
       "      <th>Income composition of resources</th>\n",
       "      <th>Schooling</th>\n",
       "    </tr>\n",
       "  </thead>\n",
       "  <tbody>\n",
       "    <tr>\n",
       "      <th>0</th>\n",
       "      <td>Afghanistan</td>\n",
       "      <td>2015</td>\n",
       "      <td>Developing</td>\n",
       "      <td>65.0</td>\n",
       "      <td>263.0</td>\n",
       "      <td>62</td>\n",
       "      <td>0.01</td>\n",
       "      <td>71.279624</td>\n",
       "      <td>65.0</td>\n",
       "      <td>1154</td>\n",
       "      <td>...</td>\n",
       "      <td>6.0</td>\n",
       "      <td>8.16</td>\n",
       "      <td>65.0</td>\n",
       "      <td>0.1</td>\n",
       "      <td>584.259210</td>\n",
       "      <td>33736494.0</td>\n",
       "      <td>17.2</td>\n",
       "      <td>17.3</td>\n",
       "      <td>0.479</td>\n",
       "      <td>10.1</td>\n",
       "    </tr>\n",
       "    <tr>\n",
       "      <th>1</th>\n",
       "      <td>Afghanistan</td>\n",
       "      <td>2014</td>\n",
       "      <td>Developing</td>\n",
       "      <td>59.9</td>\n",
       "      <td>271.0</td>\n",
       "      <td>64</td>\n",
       "      <td>0.01</td>\n",
       "      <td>73.523582</td>\n",
       "      <td>62.0</td>\n",
       "      <td>492</td>\n",
       "      <td>...</td>\n",
       "      <td>58.0</td>\n",
       "      <td>8.18</td>\n",
       "      <td>62.0</td>\n",
       "      <td>0.1</td>\n",
       "      <td>612.696514</td>\n",
       "      <td>327582.0</td>\n",
       "      <td>17.5</td>\n",
       "      <td>17.5</td>\n",
       "      <td>0.476</td>\n",
       "      <td>10.0</td>\n",
       "    </tr>\n",
       "    <tr>\n",
       "      <th>2</th>\n",
       "      <td>Afghanistan</td>\n",
       "      <td>2013</td>\n",
       "      <td>Developing</td>\n",
       "      <td>59.9</td>\n",
       "      <td>268.0</td>\n",
       "      <td>66</td>\n",
       "      <td>0.01</td>\n",
       "      <td>73.219243</td>\n",
       "      <td>64.0</td>\n",
       "      <td>430</td>\n",
       "      <td>...</td>\n",
       "      <td>62.0</td>\n",
       "      <td>8.13</td>\n",
       "      <td>64.0</td>\n",
       "      <td>0.1</td>\n",
       "      <td>631.744976</td>\n",
       "      <td>31731688.0</td>\n",
       "      <td>17.7</td>\n",
       "      <td>17.7</td>\n",
       "      <td>0.470</td>\n",
       "      <td>9.9</td>\n",
       "    </tr>\n",
       "    <tr>\n",
       "      <th>3</th>\n",
       "      <td>Afghanistan</td>\n",
       "      <td>2012</td>\n",
       "      <td>Developing</td>\n",
       "      <td>59.5</td>\n",
       "      <td>272.0</td>\n",
       "      <td>69</td>\n",
       "      <td>0.01</td>\n",
       "      <td>78.184215</td>\n",
       "      <td>67.0</td>\n",
       "      <td>2787</td>\n",
       "      <td>...</td>\n",
       "      <td>67.0</td>\n",
       "      <td>8.52</td>\n",
       "      <td>67.0</td>\n",
       "      <td>0.1</td>\n",
       "      <td>669.959000</td>\n",
       "      <td>3696958.0</td>\n",
       "      <td>17.9</td>\n",
       "      <td>18.0</td>\n",
       "      <td>0.463</td>\n",
       "      <td>9.8</td>\n",
       "    </tr>\n",
       "    <tr>\n",
       "      <th>4</th>\n",
       "      <td>Afghanistan</td>\n",
       "      <td>2011</td>\n",
       "      <td>Developing</td>\n",
       "      <td>59.2</td>\n",
       "      <td>275.0</td>\n",
       "      <td>71</td>\n",
       "      <td>0.01</td>\n",
       "      <td>7.097109</td>\n",
       "      <td>68.0</td>\n",
       "      <td>3013</td>\n",
       "      <td>...</td>\n",
       "      <td>68.0</td>\n",
       "      <td>7.87</td>\n",
       "      <td>68.0</td>\n",
       "      <td>0.1</td>\n",
       "      <td>63.537231</td>\n",
       "      <td>2978599.0</td>\n",
       "      <td>18.2</td>\n",
       "      <td>18.2</td>\n",
       "      <td>0.454</td>\n",
       "      <td>9.5</td>\n",
       "    </tr>\n",
       "  </tbody>\n",
       "</table>\n",
       "<p>5 rows × 22 columns</p>\n",
       "</div>"
      ],
      "text/plain": [
       "       Country  Year      Status  Life expectancy   Adult Mortality  \\\n",
       "0  Afghanistan  2015  Developing              65.0            263.0   \n",
       "1  Afghanistan  2014  Developing              59.9            271.0   \n",
       "2  Afghanistan  2013  Developing              59.9            268.0   \n",
       "3  Afghanistan  2012  Developing              59.5            272.0   \n",
       "4  Afghanistan  2011  Developing              59.2            275.0   \n",
       "\n",
       "   infant deaths  Alcohol  percentage expenditure  Hepatitis B  Measles   ...  \\\n",
       "0             62     0.01               71.279624         65.0      1154  ...   \n",
       "1             64     0.01               73.523582         62.0       492  ...   \n",
       "2             66     0.01               73.219243         64.0       430  ...   \n",
       "3             69     0.01               78.184215         67.0      2787  ...   \n",
       "4             71     0.01                7.097109         68.0      3013  ...   \n",
       "\n",
       "   Polio  Total expenditure  Diphtheria    HIV/AIDS         GDP  Population  \\\n",
       "0    6.0               8.16         65.0        0.1  584.259210  33736494.0   \n",
       "1   58.0               8.18         62.0        0.1  612.696514    327582.0   \n",
       "2   62.0               8.13         64.0        0.1  631.744976  31731688.0   \n",
       "3   67.0               8.52         67.0        0.1  669.959000   3696958.0   \n",
       "4   68.0               7.87         68.0        0.1   63.537231   2978599.0   \n",
       "\n",
       "    thinness  1-19 years   thinness 5-9 years  \\\n",
       "0                   17.2                 17.3   \n",
       "1                   17.5                 17.5   \n",
       "2                   17.7                 17.7   \n",
       "3                   17.9                 18.0   \n",
       "4                   18.2                 18.2   \n",
       "\n",
       "   Income composition of resources  Schooling  \n",
       "0                            0.479       10.1  \n",
       "1                            0.476       10.0  \n",
       "2                            0.470        9.9  \n",
       "3                            0.463        9.8  \n",
       "4                            0.454        9.5  \n",
       "\n",
       "[5 rows x 22 columns]"
      ]
     },
     "execution_count": 21,
     "metadata": {},
     "output_type": "execute_result"
    }
   ],
   "source": [
    "df.head()"
   ]
  },
  {
   "cell_type": "code",
   "execution_count": 22,
   "metadata": {
    "tags": []
   },
   "outputs": [
    {
     "name": "stdout",
     "output_type": "stream",
     "text": [
      "<class 'pandas.core.frame.DataFrame'>\n",
      "RangeIndex: 2938 entries, 0 to 2937\n",
      "Data columns (total 22 columns):\n",
      " #   Column                           Non-Null Count  Dtype  \n",
      "---  ------                           --------------  -----  \n",
      " 0   Country                          2938 non-null   object \n",
      " 1   Year                             2938 non-null   int64  \n",
      " 2   Status                           2938 non-null   object \n",
      " 3   Life expectancy                  2928 non-null   float64\n",
      " 4   Adult Mortality                  2928 non-null   float64\n",
      " 5   infant deaths                    2938 non-null   int64  \n",
      " 6   Alcohol                          2744 non-null   float64\n",
      " 7   percentage expenditure           2938 non-null   float64\n",
      " 8   Hepatitis B                      2385 non-null   float64\n",
      " 9   Measles                          2938 non-null   int64  \n",
      " 10   BMI                             2904 non-null   float64\n",
      " 11  under-five deaths                2938 non-null   int64  \n",
      " 12  Polio                            2919 non-null   float64\n",
      " 13  Total expenditure                2712 non-null   float64\n",
      " 14  Diphtheria                       2919 non-null   float64\n",
      " 15   HIV/AIDS                        2938 non-null   float64\n",
      " 16  GDP                              2490 non-null   float64\n",
      " 17  Population                       2286 non-null   float64\n",
      " 18   thinness  1-19 years            2904 non-null   float64\n",
      " 19   thinness 5-9 years              2904 non-null   float64\n",
      " 20  Income composition of resources  2771 non-null   float64\n",
      " 21  Schooling                        2775 non-null   float64\n",
      "dtypes: float64(16), int64(4), object(2)\n",
      "memory usage: 505.1+ KB\n"
     ]
    }
   ],
   "source": [
    "df.info()"
   ]
  },
  {
   "attachments": {},
   "cell_type": "markdown",
   "metadata": {},
   "source": [
    "# B. Missing Values"
   ]
  },
  {
   "cell_type": "code",
   "execution_count": 23,
   "metadata": {
    "tags": []
   },
   "outputs": [
    {
     "data": {
      "text/plain": [
       "Country                              0\n",
       "Year                                 0\n",
       "Status                               0\n",
       "Life expectancy                     10\n",
       "Adult Mortality                     10\n",
       "infant deaths                        0\n",
       "Alcohol                            194\n",
       "percentage expenditure               0\n",
       "Hepatitis B                        553\n",
       "Measles                              0\n",
       " BMI                                34\n",
       "under-five deaths                    0\n",
       "Polio                               19\n",
       "Total expenditure                  226\n",
       "Diphtheria                          19\n",
       " HIV/AIDS                            0\n",
       "GDP                                448\n",
       "Population                         652\n",
       " thinness  1-19 years               34\n",
       " thinness 5-9 years                 34\n",
       "Income composition of resources    167\n",
       "Schooling                          163\n",
       "dtype: int64"
      ]
     },
     "execution_count": 23,
     "metadata": {},
     "output_type": "execute_result"
    }
   ],
   "source": [
    "pd.isnull(df).sum()"
   ]
  },
  {
   "cell_type": "code",
   "execution_count": 24,
   "metadata": {},
   "outputs": [],
   "source": [
    "# Replacing the Null Values with mean values of the data\n",
    "from sklearn.impute import SimpleImputer\n",
    "imputer=SimpleImputer(missing_values=np.nan,strategy='mean',fill_value=None)\n",
    "df['Life expectancy ']=imputer.fit_transform(df[['Life expectancy ']])\n",
    "df['Adult Mortality']=imputer.fit_transform(df[['Adult Mortality']])\n",
    "df['Alcohol']=imputer.fit_transform(df[['Alcohol']])\n",
    "df['Hepatitis B']=imputer.fit_transform(df[['Hepatitis B']])\n",
    "df[' BMI ']=imputer.fit_transform(df[[' BMI ']])\n",
    "df['Polio']=imputer.fit_transform(df[['Polio']])\n",
    "df['Total expenditure']=imputer.fit_transform(df[['Total expenditure']])\n",
    "df['Diphtheria ']=imputer.fit_transform(df[['Diphtheria ']])\n",
    "df['GDP']=imputer.fit_transform(df[['GDP']])\n",
    "df['Population']=imputer.fit_transform(df[['Population']])\n",
    "df[' thinness  1-19 years']=imputer.fit_transform(df[[' thinness  1-19 years']])\n",
    "df[' thinness 5-9 years']=imputer.fit_transform(df[[' thinness 5-9 years']])\n",
    "df['Income composition of resources']=imputer.fit_transform(df[['Income composition of resources']])\n",
    "df['Schooling']=imputer.fit_transform(df[['Schooling']])"
   ]
  },
  {
   "cell_type": "code",
   "execution_count": 25,
   "metadata": {},
   "outputs": [
    {
     "data": {
      "text/plain": [
       "Country                            0\n",
       "Year                               0\n",
       "Status                             0\n",
       "Life expectancy                    0\n",
       "Adult Mortality                    0\n",
       "infant deaths                      0\n",
       "Alcohol                            0\n",
       "percentage expenditure             0\n",
       "Hepatitis B                        0\n",
       "Measles                            0\n",
       " BMI                               0\n",
       "under-five deaths                  0\n",
       "Polio                              0\n",
       "Total expenditure                  0\n",
       "Diphtheria                         0\n",
       " HIV/AIDS                          0\n",
       "GDP                                0\n",
       "Population                         0\n",
       " thinness  1-19 years              0\n",
       " thinness 5-9 years                0\n",
       "Income composition of resources    0\n",
       "Schooling                          0\n",
       "dtype: int64"
      ]
     },
     "execution_count": 25,
     "metadata": {},
     "output_type": "execute_result"
    }
   ],
   "source": [
    "pd.isnull(df).sum()"
   ]
  },
  {
   "attachments": {},
   "cell_type": "markdown",
   "metadata": {},
   "source": [
    "# Graficas"
   ]
  },
  {
   "cell_type": "code",
   "execution_count": 26,
   "metadata": {},
   "outputs": [
    {
     "data": {
      "application/vnd.plotly.v1+json": {
       "config": {
        "plotlyServerURL": "https://plot.ly"
       },
       "data": [
        {
         "alignmentgroup": "True",
         "bingroup": "x",
         "hovertemplate": "Life expectancy =%{x}<br>count=%{y}<extra></extra>",
         "legendgroup": "",
         "marker": {
          "color": "#636efa",
          "pattern": {
           "shape": ""
          }
         },
         "name": "",
         "offsetgroup": "",
         "orientation": "v",
         "showlegend": false,
         "type": "histogram",
         "x": [
          65,
          59.9,
          59.9,
          59.5,
          59.2,
          58.8,
          58.6,
          58.1,
          57.5,
          57.3,
          57.3,
          57,
          56.7,
          56.2,
          55.3,
          54.8,
          77.8,
          77.5,
          77.2,
          76.9,
          76.6,
          76.2,
          76.1,
          75.3,
          75.9,
          74.2,
          73.5,
          73,
          72.8,
          73.3,
          73.6,
          72.6,
          75.6,
          75.4,
          75.3,
          75.1,
          74.9,
          74.7,
          74.4,
          74.1,
          73.8,
          73.4,
          72.9,
          72.3,
          71.7,
          71.6,
          71.4,
          71.3,
          52.4,
          51.7,
          51.1,
          56,
          51,
          49.6,
          49.1,
          48.7,
          48.2,
          47.7,
          47.4,
          47.1,
          46.8,
          46.5,
          45.7,
          45.3,
          76.4,
          76.2,
          76.1,
          75.9,
          75.7,
          75.6,
          75.4,
          75.2,
          75,
          74.8,
          74.6,
          74.4,
          74.2,
          74,
          73.8,
          73.6,
          76.3,
          76.2,
          76,
          75.9,
          75.7,
          75.5,
          75.6,
          75.4,
          74.8,
          75.2,
          74.9,
          74.7,
          74.1,
          74.1,
          74,
          74.1,
          74.8,
          74.6,
          74.4,
          74.4,
          73.9,
          73.5,
          73.3,
          73.2,
          73.5,
          72.9,
          73,
          73,
          72.7,
          72.6,
          72.6,
          72,
          82.8,
          82.7,
          82.5,
          82.3,
          82,
          81.9,
          81.7,
          81.3,
          81.3,
          81.2,
          81,
          86,
          83,
          79.9,
          79.9,
          79.5,
          81.5,
          81.4,
          81.1,
          88,
          88,
          84,
          82,
          84,
          81,
          79.8,
          79.4,
          79.3,
          78.8,
          78.7,
          78.6,
          78.1,
          72.7,
          72.5,
          72.2,
          71.9,
          71.6,
          71.1,
          78,
          73,
          73,
          69.2,
          68.4,
          68.4,
          67.8,
          67.8,
          67.5,
          66.6,
          76.1,
          75.4,
          74.8,
          74.9,
          75,
          75,
          74.6,
          74.5,
          74.4,
          74.2,
          74.1,
          73.8,
          73.2,
          73.1,
          72.9,
          72.6,
          76.9,
          76.8,
          76.7,
          76.5,
          76.1,
          76.1,
          76,
          75.8,
          75.6,
          75.5,
          75.3,
          75.2,
          75,
          74.9,
          74.7,
          74.5,
          71.8,
          71.4,
          71,
          77,
          73,
          69.9,
          69.5,
          69.1,
          68.6,
          68.2,
          67.8,
          67.3,
          66.8,
          66.3,
          65.8,
          65.3,
          75.5,
          75.4,
          75.2,
          75.1,
          74.9,
          74.7,
          74.6,
          74.4,
          74.2,
          74.1,
          73.9,
          73.8,
          73.7,
          73.5,
          73.4,
          73.3,
          72.3,
          72,
          71.7,
          71.9,
          72,
          73,
          70,
          70,
          69.8,
          68.9,
          68.1,
          68.2,
          67.7,
          67.2,
          67.7,
          68,
          81.1,
          89,
          87,
          83,
          83,
          80,
          79.8,
          79.5,
          79.5,
          79.4,
          78.9,
          78.8,
          78.3,
          78,
          78,
          77.6,
          71,
          70,
          69.8,
          69.4,
          69.4,
          69.5,
          69.5,
          69.6,
          69.6,
          69.4,
          69,
          68.7,
          68.4,
          68.5,
          68.2,
          68.3,
          60,
          59.7,
          59.5,
          59.3,
          59.1,
          58.7,
          58.4,
          57.6,
          57.1,
          56.8,
          56.5,
          56.1,
          55.8,
          55.6,
          55.5,
          55.4,
          69.8,
          69.4,
          69.1,
          68.7,
          68.3,
          67.9,
          67.4,
          67,
          66.5,
          65.8,
          65,
          64.2,
          63.3,
          62.5,
          61.7,
          62,
          77,
          74,
          71,
          69.8,
          69.3,
          68.7,
          68,
          67.4,
          66.8,
          66.2,
          65.7,
          65.1,
          64.5,
          63.9,
          63.3,
          62.6,
          77.4,
          77.2,
          77,
          76.8,
          76.9,
          76.4,
          76.1,
          76,
          75.4,
          75.7,
          75,
          75.5,
          75.2,
          75.4,
          74.9,
          74.6,
          65.7,
          65.1,
          64.2,
          63.4,
          62.2,
          61.1,
          59.2,
          57.5,
          56.9,
          54.8,
          51.7,
          48.1,
          46.4,
          46,
          46.7,
          47.8,
          75,
          74.8,
          74.7,
          74.5,
          74.1,
          73.8,
          73.6,
          73.4,
          73.3,
          73,
          72.7,
          72,
          71.8,
          71.4,
          71,
          75,
          77.7,
          77.6,
          77.1,
          78.3,
          77.4,
          76.9,
          76.8,
          77.2,
          76,
          76.3,
          76.2,
          76.4,
          76,
          74.8,
          74.7,
          74.4,
          74.5,
          74.3,
          74.1,
          73.9,
          73.7,
          73.4,
          73.2,
          72.9,
          72.6,
          72.2,
          72.1,
          72.2,
          72,
          71.8,
          71.6,
          71.1,
          59.9,
          59.3,
          59,
          58.6,
          58.1,
          57.5,
          56.9,
          56.1,
          55.3,
          54.3,
          53.3,
          52.4,
          51.6,
          51,
          56,
          51,
          59.6,
          59.1,
          58.6,
          58,
          57.4,
          56.8,
          56.2,
          55.3,
          54.8,
          54.1,
          53.4,
          52.6,
          51.9,
          51.5,
          51.3,
          58,
          53.3,
          52.8,
          52.3,
          52,
          51.7,
          51.5,
          51,
          54,
          49.9,
          49.4,
          48.7,
          48.2,
          48,
          47.7,
          47.8,
          47.9,
          73.3,
          73,
          72.8,
          72.7,
          72.6,
          72.5,
          72.4,
          72.4,
          72.3,
          72.1,
          71.8,
          71.4,
          71.1,
          77,
          73,
          69.9,
          68.7,
          68.3,
          67.8,
          67.4,
          67,
          66.6,
          66.1,
          65.6,
          65,
          64.1,
          62.9,
          61.5,
          63,
          59.3,
          58.5,
          57.7,
          57.3,
          56.7,
          56.4,
          55.9,
          55.6,
          55.3,
          54.8,
          54.2,
          53.6,
          53.3,
          52.8,
          52.1,
          51.8,
          51.6,
          51.5,
          51.4,
          82.2,
          82,
          81.8,
          81.6,
          81.5,
          81.2,
          81,
          87,
          85,
          85,
          81,
          80,
          79.7,
          79.5,
          79.4,
          79.1,
          52.5,
          58,
          49.9,
          53,
          49.8,
          49.2,
          48.6,
          47.6,
          46.8,
          46.3,
          45.9,
          45.7,
          45.7,
          45.6,
          45.6,
          46,
          53.1,
          52.6,
          52.2,
          51.8,
          51.6,
          51.2,
          57,
          49.6,
          49.4,
          48.5,
          48.6,
          48.5,
          48.4,
          48.1,
          48,
          47.6,
          85,
          83,
          81,
          79.9,
          79.8,
          79.1,
          79.3,
          79.6,
          78.9,
          78.9,
          78.4,
          78,
          77.9,
          77.8,
          77.3,
          77.3,
          76.1,
          75.8,
          75.6,
          75.4,
          75.2,
          75,
          74.9,
          74.5,
          74.4,
          74.2,
          73.9,
          73.5,
          73.1,
          72.7,
          72.2,
          71.7,
          74.8,
          74.6,
          74.4,
          74.3,
          74.2,
          73.6,
          73.6,
          73.5,
          73.5,
          73.1,
          73.1,
          72.8,
          72.4,
          71.8,
          71.5,
          71.4,
          63.5,
          63.2,
          62.9,
          62.5,
          62.2,
          61.8,
          61.3,
          61,
          66,
          63,
          60,
          59.8,
          59.6,
          59.5,
          59.5,
          59.5,
          64.7,
          64.2,
          63.9,
          63.7,
          62.9,
          62,
          68,
          59.4,
          58.2,
          56.9,
          55.3,
          54.1,
          53.2,
          52.6,
          52.7,
          52.9,
          69.22493169398908,
          79.6,
          79.5,
          79.4,
          79.2,
          79,
          78.1,
          79.2,
          78.9,
          78.9,
          78,
          78.6,
          77.7,
          78,
          78.3,
          77.5,
          77.6,
          78,
          77.8,
          77.7,
          77.1,
          77,
          76.6,
          76.3,
          76,
          75.8,
          75.9,
          75.2,
          75.4,
          74.7,
          74.8,
          74.9,
          74.7,
          79.1,
          79,
          78.7,
          78.7,
          78.8,
          78,
          78.1,
          77.9,
          78.1,
          78,
          77.2,
          77.3,
          77.4,
          77.7,
          76.7,
          76.9,
          85,
          83,
          81,
          80,
          79.7,
          79.5,
          79.3,
          79.1,
          78.9,
          78.8,
          78.7,
          78.6,
          78.5,
          78.4,
          78.2,
          78.1,
          78.8,
          78.6,
          78.2,
          78,
          77.8,
          77.5,
          77.1,
          77,
          76.8,
          76.5,
          75.9,
          75.8,
          75.2,
          75.3,
          75.1,
          74.7,
          76,
          73,
          71,
          69.8,
          69.4,
          69,
          68.7,
          68.6,
          68.5,
          68.5,
          68.5,
          68.4,
          68.1,
          67.6,
          66.6,
          65.4,
          59.8,
          59.3,
          58.8,
          58.3,
          57.9,
          57.4,
          56.7,
          56.3,
          55.7,
          55,
          54.3,
          53.5,
          52.8,
          52.1,
          51.8,
          51.3,
          86,
          84,
          81,
          80,
          79.7,
          79.2,
          78.9,
          78.8,
          78.4,
          78.1,
          78.1,
          77.7,
          77.3,
          77,
          77,
          76.9,
          63.5,
          63,
          62.7,
          62.2,
          61.8,
          61.3,
          69,
          62,
          59.8,
          59.1,
          58.6,
          58.1,
          58,
          57.9,
          57.7,
          57.4,
          69.22493169398908,
          73.9,
          73.6,
          73.4,
          72.1,
          73.1,
          72.7,
          73.6,
          73.3,
          72.9,
          72.3,
          69.7,
          69.3,
          73,
          71.4,
          71.2,
          72,
          76.2,
          76,
          76,
          75.5,
          75.3,
          75,
          75.1,
          74.6,
          74.7,
          74.4,
          74.2,
          74.4,
          74.4,
          73.6,
          73.4,
          72.8,
          79,
          78,
          79,
          72,
          74,
          70,
          69.9,
          69.8,
          69.7,
          69.5,
          69.4,
          69,
          68.6,
          68.7,
          68.6,
          68.8,
          73.5,
          73.3,
          73,
          73,
          72,
          72,
          71.4,
          71.7,
          71.2,
          75,
          71,
          70,
          69.9,
          73,
          68.9,
          69,
          58.2,
          57.9,
          57.4,
          56.7,
          56.2,
          56.1,
          55.7,
          55.4,
          55,
          54.8,
          54.4,
          54.1,
          53.8,
          53.5,
          53.1,
          52.7,
          64.7,
          64.4,
          64,
          63.6,
          62.9,
          62.1,
          61.4,
          67,
          62,
          59.7,
          59.4,
          59.1,
          58.8,
          58.5,
          58.1,
          45.3,
          77.6,
          77.3,
          76.9,
          76.3,
          76.1,
          75.6,
          74.9,
          74.2,
          73,
          73,
          72.8,
          72.3,
          71.9,
          71.2,
          78,
          78,
          64.8,
          64.2,
          63.7,
          63.3,
          62.6,
          61.8,
          68,
          59.8,
          58.5,
          57.2,
          56,
          55,
          54,
          53.2,
          52.5,
          51.2,
          69.9,
          69.7,
          69.6,
          69.4,
          69.2,
          69.1,
          68.9,
          68.7,
          68.6,
          68.5,
          68.3,
          68.1,
          68,
          67.9,
          67.8,
          67.7,
          81.1,
          89,
          87,
          84,
          83,
          79.9,
          79.7,
          79.6,
          79.3,
          79.2,
          78.9,
          78.7,
          78.4,
          78.1,
          78,
          77.5,
          82.4,
          82.2,
          82,
          81.5,
          81.7,
          81.3,
          81.1,
          89,
          89,
          86,
          81,
          82,
          79.3,
          79.2,
          79,
          78.8,
          66,
          65.5,
          64.6,
          63.5,
          62.8,
          62.3,
          61.7,
          61.6,
          61.6,
          61.4,
          65,
          59.7,
          59.7,
          59.7,
          59.8,
          61,
          61.1,
          68,
          66,
          62,
          59.8,
          59.3,
          59,
          58.7,
          58.5,
          58.2,
          57.7,
          57.3,
          57,
          56.6,
          56.3,
          55.9,
          74.4,
          74.5,
          74.5,
          74.2,
          73.9,
          73.8,
          73.2,
          73.9,
          74.4,
          73.9,
          73.9,
          72.3,
          72.7,
          71.7,
          73,
          71.8,
          81,
          89,
          86,
          86,
          85,
          81,
          80,
          79.9,
          79.8,
          79.6,
          79.2,
          79.1,
          78.5,
          78.4,
          78.3,
          78,
          62.4,
          62.1,
          61.9,
          61.6,
          61.2,
          69,
          66,
          63,
          59.9,
          59.4,
          58.9,
          58.3,
          57.9,
          57.6,
          57.4,
          57.2,
          81,
          88,
          86,
          84,
          85,
          83,
          80,
          79.9,
          79.4,
          79.7,
          79.3,
          79.2,
          79.1,
          79,
          78.7,
          78.2,
          73.6,
          73.5,
          73.3,
          73.1,
          72.9,
          72.6,
          72.4,
          72.1,
          71.9,
          71.7,
          71.5,
          73,
          71.1,
          79,
          77,
          74,
          71.9,
          71.7,
          71.4,
          71.3,
          71.1,
          77,
          76,
          79,
          75,
          69.7,
          69.2,
          69.6,
          69.4,
          69.3,
          68.4,
          67.7,
          59,
          58.1,
          58.8,
          58.4,
          58.1,
          57.8,
          57.3,
          56.8,
          56.4,
          55.6,
          54.7,
          54,
          53.3,
          52.9,
          52.5,
          52.5,
          58.9,
          58.4,
          58.1,
          57.6,
          57.1,
          56.7,
          56.3,
          55.6,
          55,
          54.4,
          53.9,
          53.5,
          53,
          52.8,
          52.5,
          52.1,
          66.2,
          66,
          65.9,
          65.8,
          65.6,
          65.9,
          66.1,
          66.3,
          65.7,
          65.2,
          65,
          65.1,
          65.3,
          65.3,
          65.4,
          65.4,
          63.5,
          63.1,
          62.7,
          62.3,
          62.3,
          36.3,
          62.5,
          62.1,
          61.8,
          61.1,
          65,
          58.7,
          59.7,
          59.3,
          58.9,
          58.6,
          74.6,
          74.5,
          74.3,
          74.1,
          73.9,
          73.6,
          73.4,
          73.2,
          73,
          72.8,
          72.5,
          72.2,
          71.9,
          71.6,
          71.3,
          71,
          75.8,
          75.6,
          75.5,
          75,
          74.8,
          74.5,
          74.2,
          74.1,
          73.5,
          73.4,
          72.9,
          72.9,
          72.5,
          72.5,
          72.3,
          71.7,
          82.7,
          82.5,
          82.4,
          82.5,
          82.1,
          81.8,
          81.6,
          81.4,
          81.3,
          81.1,
          81,
          88,
          87,
          84,
          80,
          79.7,
          68.3,
          68,
          67.6,
          67.3,
          66.8,
          66.4,
          66,
          65.5,
          65.2,
          64.8,
          64.4,
          64,
          63.7,
          63.3,
          62.9,
          62.5,
          69.1,
          68.9,
          68.7,
          68.5,
          68.3,
          68.1,
          67.9,
          67.7,
          67.5,
          67.3,
          67.2,
          65.3,
          66.9,
          66.7,
          66.5,
          66.3,
          75.5,
          75.4,
          75.3,
          75.1,
          74.7,
          74.1,
          73.3,
          72.7,
          72.4,
          72.2,
          72,
          71.8,
          75,
          71.2,
          78,
          73,
          68.9,
          67.9,
          69.5,
          76,
          77,
          76,
          74,
          69.3,
          65.9,
          64.7,
          66.8,
          67.2,
          66.5,
          74,
          72,
          70,
          81.4,
          81.2,
          81,
          85,
          84,
          86,
          79.7,
          79.8,
          79.5,
          79,
          78.7,
          78.3,
          78,
          77.4,
          77,
          76.4,
          82.5,
          82.2,
          82.1,
          81.8,
          81.8,
          81.7,
          81.5,
          81,
          84,
          84,
          80,
          81,
          79.7,
          79.3,
          79.3,
          78.9,
          82.7,
          82.5,
          82.3,
          82,
          82,
          81.8,
          81.6,
          81.5,
          81.3,
          81.2,
          88,
          89,
          79.9,
          80,
          79.8,
          79.4,
          76.2,
          75.8,
          75.6,
          75.3,
          75.2,
          75,
          74.7,
          74.5,
          74.2,
          74,
          73.5,
          73.3,
          73.1,
          73,
          72.7,
          72.6,
          83.7,
          83.5,
          83.5,
          83.3,
          82.5,
          83,
          83,
          82.7,
          82.6,
          82.4,
          82,
          82.1,
          81.9,
          81.8,
          81.5,
          81.1,
          74.1,
          74,
          73.9,
          73.7,
          73.6,
          73.4,
          73.3,
          73.1,
          73,
          72.8,
          72.4,
          72.5,
          72.3,
          72.1,
          71.9,
          71.7,
          72,
          69.9,
          69.5,
          69.1,
          68.5,
          67.8,
          67.8,
          66.6,
          65.3,
          65,
          64.6,
          64.7,
          64.4,
          64.7,
          64.4,
          63.9,
          63.4,
          62.9,
          62.6,
          62.1,
          61.2,
          63,
          59.1,
          57.9,
          56.8,
          55.3,
          54.1,
          53,
          52.4,
          52.1,
          51.9,
          51.9,
          66.3,
          66.1,
          65.8,
          65.7,
          65.5,
          65.3,
          65.2,
          65.1,
          65,
          65,
          64.9,
          64.8,
          64.7,
          64.6,
          64.3,
          64.1,
          74.7,
          74.6,
          74.5,
          74.3,
          74.2,
          74,
          73.9,
          73.8,
          73.7,
          73.6,
          73.6,
          73.5,
          73.4,
          73.3,
          73.2,
          73.2,
          71.1,
          78,
          77,
          69.9,
          69.4,
          68.8,
          68.5,
          67.6,
          67.2,
          66.7,
          66.9,
          67.1,
          66.6,
          66.7,
          67.2,
          66.6,
          65.7,
          65.3,
          64.9,
          64.4,
          64,
          63.6,
          63.1,
          62.6,
          62.1,
          61.5,
          61,
          64,
          59.8,
          59.3,
          58.7,
          58.1,
          74.6,
          74.4,
          74.1,
          73.8,
          73.6,
          72.8,
          72.6,
          71.9,
          78,
          75,
          76,
          71,
          78,
          73,
          69.9,
          71,
          74.9,
          74.8,
          74.9,
          75,
          75,
          74.9,
          74.7,
          74.5,
          74.4,
          74.1,
          73.9,
          73.7,
          73.5,
          73.2,
          73,
          72.7,
          53.7,
          52.1,
          52.1,
          52.2,
          52.3,
          51.1,
          49.4,
          47.8,
          46.2,
          45.3,
          44.5,
          44.8,
          45.5,
          46.4,
          47.8,
          49.3,
          61.4,
          58.1,
          61.1,
          67,
          62,
          59.7,
          59.2,
          58.6,
          57.9,
          56.7,
          55.3,
          54,
          50,
          56,
          51.5,
          51.9,
          72.7,
          72.4,
          72.9,
          72.9,
          71.3,
          72.8,
          72.7,
          72.6,
          72.5,
          72.2,
          71.9,
          71.5,
          71.3,
          71.1,
          71,
          78,
          73.6,
          73.4,
          73,
          73,
          72.8,
          72.4,
          72.2,
          71.1,
          72,
          76,
          78,
          71.6,
          71.6,
          71.4,
          71.2,
          71.6,
          82,
          81.7,
          81.4,
          81.1,
          88,
          86,
          83,
          80,
          79.7,
          79.4,
          78.8,
          78.7,
          78.6,
          78.3,
          78,
          77.8,
          65.5,
          65.1,
          64.7,
          64.3,
          63.8,
          63.3,
          62.8,
          62.3,
          61.9,
          61.4,
          69,
          64,
          59.9,
          59.3,
          58.7,
          57.9,
          58.3,
          57.6,
          56.7,
          55.3,
          54.1,
          52.9,
          51.5,
          50,
          48.5,
          47.1,
          46,
          45.1,
          44.6,
          44,
          43.5,
          43.1,
          75,
          74.8,
          74.6,
          74.5,
          74.3,
          74.1,
          74,
          73.8,
          73.7,
          73.6,
          73.4,
          73.2,
          73.1,
          72.9,
          72.7,
          72.4,
          78.5,
          78.2,
          77.9,
          77.6,
          77.3,
          76.7,
          76.3,
          75.9,
          75.4,
          75,
          74.3,
          73.4,
          72.7,
          71.8,
          78,
          69.6,
          58.2,
          57.8,
          57.3,
          57.2,
          56.8,
          56.5,
          56,
          55.5,
          55,
          54.3,
          53.6,
          52.8,
          52,
          51.2,
          55,
          49.8,
          81.7,
          81.4,
          81.1,
          81,
          87,
          83,
          82,
          80,
          79.6,
          79.3,
          79,
          78.7,
          78.5,
          78.2,
          77.8,
          77.5,
          69.22493169398908,
          63.1,
          63,
          62.7,
          62.5,
          62.2,
          62,
          61.7,
          61.4,
          61.2,
          69,
          66,
          64,
          63,
          62,
          61,
          60,
          74.6,
          74.2,
          74.1,
          73.9,
          73.6,
          73.3,
          72.8,
          72.7,
          72.9,
          71.8,
          72.1,
          71.9,
          71.5,
          71.5,
          71.5,
          71,
          76.7,
          76.6,
          76.6,
          76.3,
          76.1,
          75.6,
          75.7,
          75.6,
          76,
          75.8,
          75.3,
          75.4,
          75,
          75,
          75,
          74.8,
          69.4,
          69.4,
          69.2,
          69,
          68.9,
          68.7,
          68.5,
          68.4,
          68.2,
          68,
          67.9,
          67.7,
          67.5,
          66.2,
          67.2,
          67,
          69.22493169398908,
          68.8,
          68.4,
          68.1,
          67.8,
          67.3,
          66.3,
          66.9,
          67.4,
          65.9,
          65,
          64.5,
          64,
          64,
          63.8,
          63.2,
          62.8,
          76.1,
          75.9,
          75.8,
          75.6,
          75.4,
          75.3,
          75,
          74.6,
          74.2,
          73.8,
          73.6,
          73.5,
          73.5,
          73.4,
          73.3,
          73,
          74.3,
          74.1,
          73.9,
          73.6,
          73.3,
          72.8,
          72.3,
          71.8,
          71.4,
          71,
          77,
          72,
          69.9,
          69.5,
          69,
          68.6,
          57.6,
          56.7,
          55.3,
          54.8,
          54.3,
          54,
          53.8,
          53.2,
          52.1,
          51.2,
          58,
          54,
          51,
          49.8,
          49.5,
          49,
          66.6,
          66.4,
          66.2,
          65.9,
          65.6,
          65.4,
          65.2,
          59.2,
          64.5,
          64.2,
          63.9,
          63.5,
          63.2,
          62.8,
          62.5,
          62.1,
          65.8,
          65.9,
          66.1,
          65.8,
          64.3,
          63,
          62.4,
          61.7,
          60,
          57,
          55.1,
          54.7,
          55,
          55.7,
          56.5,
          57.4,
          69.22493169398908,
          69.2,
          69.6,
          69.3,
          68.9,
          68.4,
          68,
          67.5,
          67,
          66.6,
          66,
          65.4,
          64.7,
          64.3,
          63.1,
          63.2,
          62.5,
          81.9,
          81.7,
          81.4,
          81.1,
          81.1,
          88,
          86,
          83,
          82,
          79.8,
          79.4,
          79.2,
          78.7,
          78.4,
          78.3,
          78.1,
          81.6,
          81.5,
          81.3,
          81.1,
          86,
          89,
          85,
          81,
          81,
          79.9,
          79.9,
          79.2,
          79.1,
          78.7,
          78.5,
          78.6,
          74.8,
          74.5,
          73.9,
          73.9,
          74.5,
          73.2,
          73.2,
          72.5,
          72.5,
          73,
          71.2,
          71,
          76,
          75,
          73,
          73,
          61.8,
          61.4,
          69,
          63,
          59.4,
          58.2,
          57.1,
          56,
          55.2,
          54.5,
          53.7,
          52.9,
          52.1,
          51.4,
          56,
          50,
          54.5,
          53.6,
          53.2,
          52.7,
          52.3,
          52,
          51.6,
          59,
          55,
          49.8,
          49.2,
          48.5,
          48.1,
          47.7,
          47.4,
          47.1,
          69.22493169398908,
          81.8,
          81.6,
          81.5,
          81.3,
          81.1,
          81,
          89,
          86,
          85,
          84,
          81,
          79.8,
          79.4,
          78.9,
          78.8,
          78.5,
          76.6,
          76.4,
          76.2,
          76,
          75.8,
          75.6,
          75.4,
          75.2,
          74.9,
          74.7,
          74.3,
          74,
          73.6,
          73.3,
          72.9,
          72.6,
          66.4,
          66.2,
          66,
          65.7,
          65.5,
          65.1,
          64.8,
          64.6,
          64.4,
          64.2,
          62.9,
          63.7,
          63.5,
          63.2,
          63,
          62.8,
          69.22493169398908,
          77.8,
          77.6,
          77.5,
          77.2,
          77.3,
          76.5,
          76.8,
          76.5,
          76.4,
          76.2,
          75.8,
          75.8,
          75.5,
          75.7,
          75.5,
          75.7,
          62.9,
          62.7,
          62.4,
          62.2,
          62,
          61.8,
          61.6,
          61.4,
          61.1,
          68,
          64,
          59.9,
          59.6,
          59.3,
          59.1,
          58.9,
          74,
          73.9,
          73.8,
          73.6,
          73.4,
          73.2,
          73,
          72.7,
          72.5,
          72.3,
          72.1,
          71.9,
          71.7,
          71.5,
          71.2,
          79,
          75.5,
          75.3,
          75.3,
          74.9,
          74.5,
          73.7,
          73.8,
          73.9,
          74,
          74.2,
          72.8,
          72.2,
          72.1,
          72.6,
          72.4,
          71.4,
          68.5,
          68.4,
          68.1,
          68.1,
          68,
          67.9,
          68,
          67.5,
          67.5,
          67.3,
          67,
          67.3,
          67.2,
          66.8,
          66.8,
          66.8,
          77.5,
          77.3,
          77.1,
          76.8,
          76.7,
          76.3,
          75.7,
          75.5,
          75.3,
          75.2,
          75,
          74.9,
          74.7,
          74.5,
          74.2,
          73.7,
          81.1,
          89,
          86,
          83,
          82,
          79.6,
          79.3,
          79,
          78.7,
          78.5,
          77.7,
          78,
          77.3,
          77.2,
          76.9,
          76.6,
          78.2,
          78.1,
          77.9,
          77.8,
          77.5,
          77.3,
          77,
          76.8,
          76.7,
          76.6,
          76.6,
          76.6,
          76.5,
          76.4,
          76.3,
          76.2,
          82.3,
          82,
          81.7,
          81.2,
          81.1,
          87,
          86,
          83,
          79.8,
          79.4,
          78.7,
          78.2,
          77.6,
          77.1,
          76.7,
          76,
          72.1,
          71.8,
          71.7,
          79,
          77,
          68.8,
          69,
          68.9,
          68.3,
          68,
          67.3,
          68,
          67.6,
          67.5,
          67.6,
          67.1,
          75,
          74.8,
          74.6,
          74.4,
          74.3,
          73.4,
          73.1,
          73.1,
          72.9,
          72.5,
          71.9,
          71.7,
          71.1,
          77,
          78,
          77,
          75,
          73,
          70,
          69.6,
          69.4,
          68.4,
          68.2,
          67.5,
          67.3,
          66.4,
          65,
          64.9,
          64.6,
          64.8,
          65.1,
          65,
          66.1,
          65.7,
          65.2,
          64.6,
          63.8,
          62.8,
          61,
          68,
          59.6,
          57.6,
          55.3,
          53.4,
          52,
          57,
          48.6,
          48.3,
          69.22493169398908,
          75.2,
          75,
          74.8,
          74.7,
          74.6,
          74.2,
          74.3,
          74.1,
          73.9,
          73.5,
          73.1,
          72.6,
          72.2,
          72,
          71.8,
          71.6,
          73.2,
          73.1,
          72.7,
          72.8,
          72.7,
          72.5,
          72.3,
          72.1,
          71.9,
          71.7,
          71.4,
          71.2,
          71,
          79,
          79,
          79,
          74,
          73.8,
          73.6,
          73.2,
          73,
          72.6,
          76,
          72.5,
          72.2,
          72,
          71.6,
          71.4,
          79,
          76,
          75,
          72,
          69.22493169398908,
          67.5,
          67.3,
          67.1,
          66.9,
          66.6,
          66.2,
          65.8,
          65.4,
          65.1,
          64.7,
          64.3,
          63.8,
          63.4,
          63.1,
          62.8,
          62.6,
          74.5,
          74.4,
          74.3,
          74.1,
          73.9,
          73.7,
          73.4,
          73.3,
          73.2,
          73.2,
          73.1,
          73.1,
          73,
          72.9,
          72.8,
          72.6,
          66.7,
          66.4,
          66,
          65.6,
          64.9,
          64.3,
          63.5,
          62.8,
          62.1,
          61.3,
          65,
          59.7,
          59,
          58.4,
          57.9,
          57.5,
          75.6,
          75.4,
          75.3,
          74.9,
          74.6,
          74.4,
          74.1,
          74,
          73.8,
          73.6,
          73,
          73,
          73,
          72.9,
          73.1,
          72.6,
          73.2,
          73,
          72.9,
          72.7,
          72.6,
          72.4,
          72.3,
          72.2,
          72.2,
          72.2,
          72.2,
          72.1,
          72.1,
          72.1,
          72,
          71.8,
          51,
          48.1,
          54,
          49.7,
          48.9,
          48.1,
          47.1,
          46.2,
          45.3,
          44.3,
          43.3,
          42.3,
          41.5,
          48,
          41,
          39,
          83.1,
          82.9,
          82.7,
          82.5,
          82.2,
          82,
          81.7,
          81.4,
          81.1,
          87,
          82,
          79.7,
          79.3,
          79,
          78.7,
          78.3,
          76.7,
          76.4,
          76.1,
          75.8,
          75.6,
          75.1,
          75,
          74.7,
          74.4,
          74.3,
          74,
          74.1,
          73.8,
          73.7,
          73.3,
          73,
          88,
          87,
          85,
          82,
          79.8,
          79.5,
          79.1,
          78.9,
          78.3,
          78.1,
          77.5,
          77.2,
          76.5,
          76.6,
          76.2,
          76,
          69.2,
          68.8,
          68.8,
          68.7,
          68.5,
          68.3,
          68.1,
          68,
          67.6,
          67.6,
          67.4,
          67.1,
          66.8,
          66.5,
          66.2,
          65.8,
          55,
          54.3,
          54.2,
          53.1,
          53.1,
          52.4,
          52.2,
          51.9,
          51.5,
          51.5,
          51.6,
          51.2,
          51.1,
          58,
          57,
          55,
          62.9,
          62,
          69,
          59.2,
          58.9,
          58,
          56.5,
          55.3,
          54.5,
          54,
          53.8,
          53.7,
          54,
          54.9,
          56,
          57.3,
          57.3,
          56.6,
          56.4,
          56,
          55.4,
          55,
          54.3,
          53.6,
          53.1,
          52.5,
          51.9,
          51.4,
          58,
          52,
          49.6,
          48.9,
          82.8,
          82.6,
          82.4,
          82,
          82.1,
          81.9,
          81.6,
          81.3,
          89,
          88,
          81,
          81,
          79.4,
          79.5,
          79.4,
          79.1,
          74.9,
          74.7,
          74.6,
          74.5,
          74.5,
          74.5,
          71.8,
          72.3,
          73.7,
          73.8,
          74.2,
          69.1,
          73.9,
          73.7,
          72.7,
          71.5,
          64.1,
          63.8,
          63.5,
          63.2,
          62.7,
          62.5,
          62,
          61.8,
          61.4,
          61,
          67,
          59.7,
          59.6,
          59.4,
          58.9,
          58.6,
          71.6,
          71.4,
          71.2,
          71.3,
          76,
          73,
          70,
          69.8,
          69.5,
          69.3,
          68.9,
          68.3,
          68,
          67.9,
          67.7,
          67.4,
          58.9,
          58.4,
          57.6,
          56.5,
          55,
          53.6,
          52.6,
          51.4,
          50,
          47.8,
          46,
          45.6,
          45.9,
          46.4,
          47.1,
          48.4,
          82.4,
          82.3,
          81.9,
          81.7,
          81.7,
          81.5,
          81.4,
          81.1,
          89,
          88,
          85,
          83,
          82,
          79.9,
          79.8,
          79.6,
          83.4,
          83.2,
          83,
          82.7,
          82.6,
          82.3,
          82.1,
          82,
          81.7,
          81.5,
          81.1,
          81,
          85,
          84,
          82,
          79.7,
          64.5,
          64.4,
          63.6,
          62.8,
          71.7,
          73.7,
          73.8,
          73.8,
          73.8,
          73.7,
          73.5,
          73.2,
          73,
          72.8,
          72.7,
          72.6,
          69.7,
          69.6,
          69.3,
          68.8,
          68.1,
          67.3,
          66.7,
          66.4,
          66.1,
          65.9,
          65.5,
          65.9,
          65.2,
          64.3,
          64,
          63.7,
          74.9,
          74.6,
          74.5,
          74.3,
          74.1,
          73.9,
          73.7,
          73.5,
          73.3,
          73,
          72.5,
          71.6,
          71.7,
          71.4,
          71.2,
          71.1,
          75.7,
          75.5,
          75.3,
          75.1,
          74.9,
          74.7,
          74.4,
          74.2,
          73.5,
          73.7,
          73.6,
          73.5,
          73.2,
          72.8,
          73.1,
          72.6,
          68.3,
          68,
          67.7,
          67.4,
          67.2,
          66.9,
          66.6,
          66.2,
          65.8,
          64.9,
          63.7,
          62.3,
          61,
          62,
          59.4,
          58.7,
          59.9,
          59.7,
          59.4,
          58.9,
          58.3,
          57.4,
          56.7,
          56.2,
          55.9,
          55.7,
          55,
          54.9,
          54.7,
          54.7,
          54.6,
          54.6,
          73.5,
          73.3,
          73.2,
          73,
          72.9,
          72.8,
          72.5,
          72.6,
          72.5,
          72.4,
          72.3,
          72.2,
          72,
          71.9,
          71.8,
          71.6,
          71.2,
          71.1,
          71,
          78,
          76,
          74,
          71,
          69.9,
          69.7,
          69.6,
          69.5,
          69.4,
          69.3,
          69.2,
          69.1,
          69.1,
          75.3,
          75.1,
          74.9,
          74.9,
          74.8,
          74.8,
          74.7,
          74.7,
          74.6,
          74.4,
          74.2,
          74,
          73.7,
          73.5,
          73.2,
          72.9,
          75.8,
          75.5,
          75.2,
          74.8,
          74.5,
          74.2,
          73.9,
          73.5,
          73.2,
          72.8,
          72.4,
          72,
          71.6,
          71.2,
          78,
          74,
          66.3,
          66,
          65.4,
          65.6,
          65.6,
          65.8,
          65.6,
          64.5,
          64.1,
          63.7,
          63.3,
          63.5,
          63.4,
          63.3,
          64,
          63.8,
          69.22493169398908,
          62.3,
          61.5,
          67,
          60,
          59.3,
          58.4,
          57.5,
          56.3,
          55.5,
          54.9,
          53.2,
          51.3,
          51,
          48.8,
          47.7,
          46.6,
          71.3,
          78,
          71,
          77,
          75,
          69.8,
          69.2,
          67.7,
          67.5,
          67.7,
          67,
          67.4,
          67.6,
          67.6,
          67.7,
          67.5,
          77.1,
          76.9,
          76.7,
          76.5,
          76.3,
          76.2,
          76,
          75.8,
          75.6,
          75.4,
          75.3,
          75.1,
          74.9,
          74.7,
          74.5,
          74.2,
          81.2,
          81,
          87,
          86,
          86,
          82,
          81,
          79.6,
          79.5,
          79.3,
          79,
          78.8,
          78.3,
          78.2,
          78,
          77.8,
          61.8,
          67,
          59.7,
          58.6,
          58.3,
          57.5,
          56.9,
          56.2,
          54.5,
          53.1,
          52.2,
          51.5,
          58,
          52,
          49.6,
          49.2,
          79.3,
          79.1,
          78.9,
          78.8,
          78.7,
          78.7,
          78.5,
          78.2,
          78.1,
          77.8,
          77.5,
          77.5,
          77.2,
          77,
          76.9,
          76.8,
          77,
          76.8,
          76.8,
          76.5,
          77,
          76.3,
          76.6,
          76.4,
          75.4,
          76.2,
          75.7,
          75.4,
          75.4,
          75.4,
          75.2,
          75.1,
          69.4,
          69.2,
          69.1,
          68.8,
          68.5,
          68.3,
          68,
          67.9,
          67.8,
          67.6,
          67.3,
          67.8,
          67.2,
          67.1,
          67.4,
          67.1,
          72,
          71.7,
          71.6,
          71.4,
          71.2,
          71,
          78,
          75,
          73,
          71,
          69.9,
          69.6,
          69.4,
          69.3,
          69.1,
          69,
          74.1,
          73.9,
          73.8,
          73.7,
          73.8,
          73.7,
          73.6,
          73.2,
          73.4,
          73.6,
          73.6,
          73.3,
          72.4,
          73.1,
          72.5,
          72.5,
          76,
          75.9,
          75.7,
          75.6,
          75.4,
          75.2,
          75,
          74.9,
          74.7,
          74.6,
          74.4,
          74.2,
          74,
          73.8,
          73.6,
          73.4,
          65.7,
          65.4,
          65.4,
          64.7,
          64.6,
          64.4,
          64.1,
          63.8,
          63.4,
          63,
          62.6,
          62.2,
          61.9,
          61.5,
          61.1,
          68,
          61.8,
          61.1,
          63,
          59.2,
          58.2,
          58,
          57.4,
          55.7,
          52.6,
          58,
          49.3,
          47.9,
          46.4,
          45.5,
          44.6,
          43.8,
          67,
          59.2,
          58,
          56.6,
          54.9,
          52.4,
          50,
          48.2,
          46.6,
          45.4,
          44.6,
          44.3,
          44.5,
          44.8,
          45.3,
          46
         ],
         "xaxis": "x",
         "yaxis": "y"
        }
       ],
       "layout": {
        "barmode": "relative",
        "legend": {
         "tracegroupgap": 0
        },
        "margin": {
         "t": 60
        },
        "template": {
         "data": {
          "bar": [
           {
            "error_x": {
             "color": "#f2f5fa"
            },
            "error_y": {
             "color": "#f2f5fa"
            },
            "marker": {
             "line": {
              "color": "rgb(17,17,17)",
              "width": 0.5
             },
             "pattern": {
              "fillmode": "overlay",
              "size": 10,
              "solidity": 0.2
             }
            },
            "type": "bar"
           }
          ],
          "barpolar": [
           {
            "marker": {
             "line": {
              "color": "rgb(17,17,17)",
              "width": 0.5
             },
             "pattern": {
              "fillmode": "overlay",
              "size": 10,
              "solidity": 0.2
             }
            },
            "type": "barpolar"
           }
          ],
          "carpet": [
           {
            "aaxis": {
             "endlinecolor": "#A2B1C6",
             "gridcolor": "#506784",
             "linecolor": "#506784",
             "minorgridcolor": "#506784",
             "startlinecolor": "#A2B1C6"
            },
            "baxis": {
             "endlinecolor": "#A2B1C6",
             "gridcolor": "#506784",
             "linecolor": "#506784",
             "minorgridcolor": "#506784",
             "startlinecolor": "#A2B1C6"
            },
            "type": "carpet"
           }
          ],
          "choropleth": [
           {
            "colorbar": {
             "outlinewidth": 0,
             "ticks": ""
            },
            "type": "choropleth"
           }
          ],
          "contour": [
           {
            "colorbar": {
             "outlinewidth": 0,
             "ticks": ""
            },
            "colorscale": [
             [
              0,
              "#0d0887"
             ],
             [
              0.1111111111111111,
              "#46039f"
             ],
             [
              0.2222222222222222,
              "#7201a8"
             ],
             [
              0.3333333333333333,
              "#9c179e"
             ],
             [
              0.4444444444444444,
              "#bd3786"
             ],
             [
              0.5555555555555556,
              "#d8576b"
             ],
             [
              0.6666666666666666,
              "#ed7953"
             ],
             [
              0.7777777777777778,
              "#fb9f3a"
             ],
             [
              0.8888888888888888,
              "#fdca26"
             ],
             [
              1,
              "#f0f921"
             ]
            ],
            "type": "contour"
           }
          ],
          "contourcarpet": [
           {
            "colorbar": {
             "outlinewidth": 0,
             "ticks": ""
            },
            "type": "contourcarpet"
           }
          ],
          "heatmap": [
           {
            "colorbar": {
             "outlinewidth": 0,
             "ticks": ""
            },
            "colorscale": [
             [
              0,
              "#0d0887"
             ],
             [
              0.1111111111111111,
              "#46039f"
             ],
             [
              0.2222222222222222,
              "#7201a8"
             ],
             [
              0.3333333333333333,
              "#9c179e"
             ],
             [
              0.4444444444444444,
              "#bd3786"
             ],
             [
              0.5555555555555556,
              "#d8576b"
             ],
             [
              0.6666666666666666,
              "#ed7953"
             ],
             [
              0.7777777777777778,
              "#fb9f3a"
             ],
             [
              0.8888888888888888,
              "#fdca26"
             ],
             [
              1,
              "#f0f921"
             ]
            ],
            "type": "heatmap"
           }
          ],
          "heatmapgl": [
           {
            "colorbar": {
             "outlinewidth": 0,
             "ticks": ""
            },
            "colorscale": [
             [
              0,
              "#0d0887"
             ],
             [
              0.1111111111111111,
              "#46039f"
             ],
             [
              0.2222222222222222,
              "#7201a8"
             ],
             [
              0.3333333333333333,
              "#9c179e"
             ],
             [
              0.4444444444444444,
              "#bd3786"
             ],
             [
              0.5555555555555556,
              "#d8576b"
             ],
             [
              0.6666666666666666,
              "#ed7953"
             ],
             [
              0.7777777777777778,
              "#fb9f3a"
             ],
             [
              0.8888888888888888,
              "#fdca26"
             ],
             [
              1,
              "#f0f921"
             ]
            ],
            "type": "heatmapgl"
           }
          ],
          "histogram": [
           {
            "marker": {
             "pattern": {
              "fillmode": "overlay",
              "size": 10,
              "solidity": 0.2
             }
            },
            "type": "histogram"
           }
          ],
          "histogram2d": [
           {
            "colorbar": {
             "outlinewidth": 0,
             "ticks": ""
            },
            "colorscale": [
             [
              0,
              "#0d0887"
             ],
             [
              0.1111111111111111,
              "#46039f"
             ],
             [
              0.2222222222222222,
              "#7201a8"
             ],
             [
              0.3333333333333333,
              "#9c179e"
             ],
             [
              0.4444444444444444,
              "#bd3786"
             ],
             [
              0.5555555555555556,
              "#d8576b"
             ],
             [
              0.6666666666666666,
              "#ed7953"
             ],
             [
              0.7777777777777778,
              "#fb9f3a"
             ],
             [
              0.8888888888888888,
              "#fdca26"
             ],
             [
              1,
              "#f0f921"
             ]
            ],
            "type": "histogram2d"
           }
          ],
          "histogram2dcontour": [
           {
            "colorbar": {
             "outlinewidth": 0,
             "ticks": ""
            },
            "colorscale": [
             [
              0,
              "#0d0887"
             ],
             [
              0.1111111111111111,
              "#46039f"
             ],
             [
              0.2222222222222222,
              "#7201a8"
             ],
             [
              0.3333333333333333,
              "#9c179e"
             ],
             [
              0.4444444444444444,
              "#bd3786"
             ],
             [
              0.5555555555555556,
              "#d8576b"
             ],
             [
              0.6666666666666666,
              "#ed7953"
             ],
             [
              0.7777777777777778,
              "#fb9f3a"
             ],
             [
              0.8888888888888888,
              "#fdca26"
             ],
             [
              1,
              "#f0f921"
             ]
            ],
            "type": "histogram2dcontour"
           }
          ],
          "mesh3d": [
           {
            "colorbar": {
             "outlinewidth": 0,
             "ticks": ""
            },
            "type": "mesh3d"
           }
          ],
          "parcoords": [
           {
            "line": {
             "colorbar": {
              "outlinewidth": 0,
              "ticks": ""
             }
            },
            "type": "parcoords"
           }
          ],
          "pie": [
           {
            "automargin": true,
            "type": "pie"
           }
          ],
          "scatter": [
           {
            "marker": {
             "line": {
              "color": "#283442"
             }
            },
            "type": "scatter"
           }
          ],
          "scatter3d": [
           {
            "line": {
             "colorbar": {
              "outlinewidth": 0,
              "ticks": ""
             }
            },
            "marker": {
             "colorbar": {
              "outlinewidth": 0,
              "ticks": ""
             }
            },
            "type": "scatter3d"
           }
          ],
          "scattercarpet": [
           {
            "marker": {
             "colorbar": {
              "outlinewidth": 0,
              "ticks": ""
             }
            },
            "type": "scattercarpet"
           }
          ],
          "scattergeo": [
           {
            "marker": {
             "colorbar": {
              "outlinewidth": 0,
              "ticks": ""
             }
            },
            "type": "scattergeo"
           }
          ],
          "scattergl": [
           {
            "marker": {
             "line": {
              "color": "#283442"
             }
            },
            "type": "scattergl"
           }
          ],
          "scattermapbox": [
           {
            "marker": {
             "colorbar": {
              "outlinewidth": 0,
              "ticks": ""
             }
            },
            "type": "scattermapbox"
           }
          ],
          "scatterpolar": [
           {
            "marker": {
             "colorbar": {
              "outlinewidth": 0,
              "ticks": ""
             }
            },
            "type": "scatterpolar"
           }
          ],
          "scatterpolargl": [
           {
            "marker": {
             "colorbar": {
              "outlinewidth": 0,
              "ticks": ""
             }
            },
            "type": "scatterpolargl"
           }
          ],
          "scatterternary": [
           {
            "marker": {
             "colorbar": {
              "outlinewidth": 0,
              "ticks": ""
             }
            },
            "type": "scatterternary"
           }
          ],
          "surface": [
           {
            "colorbar": {
             "outlinewidth": 0,
             "ticks": ""
            },
            "colorscale": [
             [
              0,
              "#0d0887"
             ],
             [
              0.1111111111111111,
              "#46039f"
             ],
             [
              0.2222222222222222,
              "#7201a8"
             ],
             [
              0.3333333333333333,
              "#9c179e"
             ],
             [
              0.4444444444444444,
              "#bd3786"
             ],
             [
              0.5555555555555556,
              "#d8576b"
             ],
             [
              0.6666666666666666,
              "#ed7953"
             ],
             [
              0.7777777777777778,
              "#fb9f3a"
             ],
             [
              0.8888888888888888,
              "#fdca26"
             ],
             [
              1,
              "#f0f921"
             ]
            ],
            "type": "surface"
           }
          ],
          "table": [
           {
            "cells": {
             "fill": {
              "color": "#506784"
             },
             "line": {
              "color": "rgb(17,17,17)"
             }
            },
            "header": {
             "fill": {
              "color": "#2a3f5f"
             },
             "line": {
              "color": "rgb(17,17,17)"
             }
            },
            "type": "table"
           }
          ]
         },
         "layout": {
          "annotationdefaults": {
           "arrowcolor": "#f2f5fa",
           "arrowhead": 0,
           "arrowwidth": 1
          },
          "autotypenumbers": "strict",
          "coloraxis": {
           "colorbar": {
            "outlinewidth": 0,
            "ticks": ""
           }
          },
          "colorscale": {
           "diverging": [
            [
             0,
             "#8e0152"
            ],
            [
             0.1,
             "#c51b7d"
            ],
            [
             0.2,
             "#de77ae"
            ],
            [
             0.3,
             "#f1b6da"
            ],
            [
             0.4,
             "#fde0ef"
            ],
            [
             0.5,
             "#f7f7f7"
            ],
            [
             0.6,
             "#e6f5d0"
            ],
            [
             0.7,
             "#b8e186"
            ],
            [
             0.8,
             "#7fbc41"
            ],
            [
             0.9,
             "#4d9221"
            ],
            [
             1,
             "#276419"
            ]
           ],
           "sequential": [
            [
             0,
             "#0d0887"
            ],
            [
             0.1111111111111111,
             "#46039f"
            ],
            [
             0.2222222222222222,
             "#7201a8"
            ],
            [
             0.3333333333333333,
             "#9c179e"
            ],
            [
             0.4444444444444444,
             "#bd3786"
            ],
            [
             0.5555555555555556,
             "#d8576b"
            ],
            [
             0.6666666666666666,
             "#ed7953"
            ],
            [
             0.7777777777777778,
             "#fb9f3a"
            ],
            [
             0.8888888888888888,
             "#fdca26"
            ],
            [
             1,
             "#f0f921"
            ]
           ],
           "sequentialminus": [
            [
             0,
             "#0d0887"
            ],
            [
             0.1111111111111111,
             "#46039f"
            ],
            [
             0.2222222222222222,
             "#7201a8"
            ],
            [
             0.3333333333333333,
             "#9c179e"
            ],
            [
             0.4444444444444444,
             "#bd3786"
            ],
            [
             0.5555555555555556,
             "#d8576b"
            ],
            [
             0.6666666666666666,
             "#ed7953"
            ],
            [
             0.7777777777777778,
             "#fb9f3a"
            ],
            [
             0.8888888888888888,
             "#fdca26"
            ],
            [
             1,
             "#f0f921"
            ]
           ]
          },
          "colorway": [
           "#636efa",
           "#EF553B",
           "#00cc96",
           "#ab63fa",
           "#FFA15A",
           "#19d3f3",
           "#FF6692",
           "#B6E880",
           "#FF97FF",
           "#FECB52"
          ],
          "font": {
           "color": "#f2f5fa"
          },
          "geo": {
           "bgcolor": "rgb(17,17,17)",
           "lakecolor": "rgb(17,17,17)",
           "landcolor": "rgb(17,17,17)",
           "showlakes": true,
           "showland": true,
           "subunitcolor": "#506784"
          },
          "hoverlabel": {
           "align": "left"
          },
          "hovermode": "closest",
          "mapbox": {
           "style": "dark"
          },
          "paper_bgcolor": "rgb(17,17,17)",
          "plot_bgcolor": "rgb(17,17,17)",
          "polar": {
           "angularaxis": {
            "gridcolor": "#506784",
            "linecolor": "#506784",
            "ticks": ""
           },
           "bgcolor": "rgb(17,17,17)",
           "radialaxis": {
            "gridcolor": "#506784",
            "linecolor": "#506784",
            "ticks": ""
           }
          },
          "scene": {
           "xaxis": {
            "backgroundcolor": "rgb(17,17,17)",
            "gridcolor": "#506784",
            "gridwidth": 2,
            "linecolor": "#506784",
            "showbackground": true,
            "ticks": "",
            "zerolinecolor": "#C8D4E3"
           },
           "yaxis": {
            "backgroundcolor": "rgb(17,17,17)",
            "gridcolor": "#506784",
            "gridwidth": 2,
            "linecolor": "#506784",
            "showbackground": true,
            "ticks": "",
            "zerolinecolor": "#C8D4E3"
           },
           "zaxis": {
            "backgroundcolor": "rgb(17,17,17)",
            "gridcolor": "#506784",
            "gridwidth": 2,
            "linecolor": "#506784",
            "showbackground": true,
            "ticks": "",
            "zerolinecolor": "#C8D4E3"
           }
          },
          "shapedefaults": {
           "line": {
            "color": "#f2f5fa"
           }
          },
          "sliderdefaults": {
           "bgcolor": "#C8D4E3",
           "bordercolor": "rgb(17,17,17)",
           "borderwidth": 1,
           "tickwidth": 0
          },
          "ternary": {
           "aaxis": {
            "gridcolor": "#506784",
            "linecolor": "#506784",
            "ticks": ""
           },
           "baxis": {
            "gridcolor": "#506784",
            "linecolor": "#506784",
            "ticks": ""
           },
           "bgcolor": "rgb(17,17,17)",
           "caxis": {
            "gridcolor": "#506784",
            "linecolor": "#506784",
            "ticks": ""
           }
          },
          "title": {
           "x": 0.05
          },
          "updatemenudefaults": {
           "bgcolor": "#506784",
           "borderwidth": 0
          },
          "xaxis": {
           "automargin": true,
           "gridcolor": "#283442",
           "linecolor": "#506784",
           "ticks": "",
           "title": {
            "standoff": 15
           },
           "zerolinecolor": "#283442",
           "zerolinewidth": 2
          },
          "yaxis": {
           "automargin": true,
           "gridcolor": "#283442",
           "linecolor": "#506784",
           "ticks": "",
           "title": {
            "standoff": 15
           },
           "zerolinecolor": "#283442",
           "zerolinewidth": 2
          }
         }
        },
        "xaxis": {
         "anchor": "y",
         "domain": [
          0,
          1
         ],
         "title": {
          "text": "Life expectancy "
         }
        },
        "yaxis": {
         "anchor": "x",
         "domain": [
          0,
          1
         ],
         "title": {
          "text": "count"
         }
        }
       }
      }
     },
     "metadata": {},
     "output_type": "display_data"
    }
   ],
   "source": [
    "import plotly.express as px\n",
    "\n",
    "fig=px.histogram(df,x='Life expectancy ',template='plotly_dark')\n",
    "fig.show()"
   ]
  },
  {
   "cell_type": "code",
   "execution_count": 27,
   "metadata": {},
   "outputs": [
    {
     "data": {
      "application/vnd.plotly.v1+json": {
       "config": {
        "plotlyServerURL": "https://plot.ly"
       },
       "data": [
        {
         "alignmentgroup": "True",
         "hovertemplate": "Country=%{x}<br>Life expectancy =%{y}<extra></extra>",
         "legendgroup": "",
         "marker": {
          "color": "#636efa",
          "pattern": {
           "shape": ""
          }
         },
         "name": "",
         "offsetgroup": "",
         "orientation": "v",
         "showlegend": false,
         "textposition": "auto",
         "type": "bar",
         "x": [
          "Japan",
          "Sweden",
          "Iceland",
          "Switzerland",
          "France",
          "Italy",
          "Spain",
          "Australia",
          "Norway",
          "Canada",
          "Austria",
          "Singapore",
          "New Zealand",
          "Israel",
          "Greece",
          "Germany",
          "Netherlands",
          "United Kingdom of Great Britain and Northern Ireland",
          "Luxembourg",
          "Finland",
          "Belgium",
          "Republic of Korea",
          "Malta",
          "Ireland",
          "Portugal",
          "Slovenia",
          "Cyprus",
          "Chile",
          "Denmark",
          "Costa Rica",
          "United States of America",
          "Cuba",
          "Qatar",
          "Czechia",
          "Panama",
          "Brunei Darussalam",
          "Croatia",
          "Uruguay",
          "Bosnia and Herzegovina",
          "Bahrain",
          "Mexico",
          "United Arab Emirates",
          "Poland",
          "Maldives",
          "Albania",
          "Argentina",
          "Antigua and Barbuda",
          "Estonia",
          "Oman",
          "Viet Nam",
          "Slovakia",
          "Ecuador",
          "Montenegro",
          "Tunisia",
          "Barbados",
          "Jamaica",
          "Bahamas",
          "China",
          "Lebanon",
          "The former Yugoslav republic of Macedonia",
          "Romania",
          "Serbia",
          "Turkey",
          "Iran (Islamic Republic of)",
          "Kuwait",
          "Hungary",
          "Malaysia",
          "Latvia",
          "Peru",
          "Algeria",
          "Samoa",
          "Saint Lucia",
          "Georgia",
          "Saint Vincent and the Grenadines",
          "Saudi Arabia",
          "Nicaragua",
          "Sri Lanka",
          "Armenia",
          "Venezuela (Bolivarian Republic of)",
          "Brazil",
          "Grenada",
          "Colombia",
          "Paraguay",
          "Thailand",
          "Honduras",
          "Jordan",
          "Bulgaria",
          "Lithuania",
          "Mauritius",
          "Tonga",
          "Cabo Verde",
          "Libya",
          "Seychelles",
          "Dominican Republic",
          "Morocco",
          "El Salvador",
          "Guatemala",
          "Egypt",
          "Vanuatu",
          "Trinidad and Tobago",
          "Syrian Arab Republic",
          "Azerbaijan",
          "Iraq",
          "Suriname",
          "Republic of Moldova",
          "Ukraine",
          "Belarus",
          "Bangladesh",
          "Belize",
          "Saint Kitts and Nevis",
          "Dominica",
          "Nauru",
          "Cook Islands",
          "Tuvalu",
          "Palau",
          "San Marino",
          "Niue",
          "Marshall Islands",
          "Monaco",
          "Democratic People's Republic of Korea",
          "Kyrgyzstan",
          "Fiji",
          "Micronesia (Federated States of)",
          "Uzbekistan",
          "Russian Federation",
          "Solomon Islands",
          "Bolivia (Plurinational State of)",
          "Philippines",
          "Indonesia",
          "Kazakhstan",
          "Tajikistan",
          "Nepal",
          "Bhutan",
          "Mongolia",
          "Guyana",
          "India",
          "Sao Tome and Principe",
          "Kiribati",
          "Timor-Leste",
          "Turkmenistan",
          "Pakistan",
          "Cambodia",
          "Myanmar",
          "Yemen",
          "Mauritania",
          "Madagascar",
          "Senegal",
          "Lao People's Democratic Republic",
          "Gabon",
          "Sudan",
          "Papua New Guinea",
          "Comoros",
          "Ghana",
          "Djibouti",
          "Eritrea",
          "Namibia",
          "Haiti",
          "Gambia",
          "Rwanda",
          "Ethiopia",
          "Congo",
          "Afghanistan",
          "Benin",
          "Liberia",
          "South Africa",
          "Kenya",
          "Niger",
          "Togo",
          "Botswana",
          "Guinea",
          "United Republic of Tanzania",
          "Uganda",
          "Democratic Republic of the Congo",
          "Burkina Faso",
          "Burundi",
          "Guinea-Bissau",
          "Equatorial Guinea",
          "Mali",
          "Cameroon",
          "Zambia",
          "South Sudan",
          "Mozambique",
          "Somalia",
          "Nigeria",
          "Swaziland",
          "Zimbabwe",
          "Côte d'Ivoire",
          "Chad",
          "Malawi",
          "Angola",
          "Lesotho",
          "Central African Republic",
          "Sierra Leone"
         ],
         "xaxis": "x",
         "y": [
          82.5375,
          82.51875,
          82.44375,
          82.33125,
          82.21875,
          82.1875,
          82.06875,
          81.8125,
          81.79375,
          81.6875,
          81.48125,
          81.475,
          81.3375,
          81.3,
          81.21875,
          81.175,
          81.13125,
          80.79375,
          80.78125,
          80.7125,
          80.68125,
          80.4875,
          80.3625,
          80.15,
          79.99375,
          79.73125,
          79.675,
          79.45,
          79.25625,
          78.59375,
          78.0625,
          77.975,
          77.03125,
          76.76875,
          76.4875,
          76.4875,
          76.11875,
          76.075,
          75.96875,
          75.725,
          75.71875,
          75.7,
          75.65,
          75.5375,
          75.15625,
          75.15625,
          75.05625,
          74.94375,
          74.84375,
          74.775,
          74.75,
          74.725,
          74.5,
          74.35625,
          74.35625,
          74.29375,
          74.2875,
          74.2625,
          74.2,
          74.1125,
          74.05,
          73.95625,
          73.9125,
          73.85625,
          73.84375,
          73.825,
          73.75625,
          73.73125,
          73.6625,
          73.61875,
          73.61875,
          73.6,
          73.50625000000001,
          73.475,
          73.46875,
          73.45,
          73.4,
          73.4,
          73.3875,
          73.38125,
          73.29375,
          73.2875,
          73.1125,
          73.08125,
          72.99375,
          72.9875,
          72.85,
          72.80625,
          72.7125,
          72.53125,
          72.51875,
          72.4875,
          72.375,
          72.34375,
          72.15625,
          71.74375,
          71.73125,
          71.5,
          71.3875,
          71.06875,
          70.85,
          70.73125,
          70.35625,
          70.08125,
          69.98125,
          69.9375,
          69.90625,
          69.3,
          69.26875,
          69.22493169398908,
          69.22493169398908,
          69.22493169398908,
          69.22493169398908,
          69.22493169398908,
          69.22493169398908,
          69.22493169398908,
          69.22493169398908,
          69.22493169398908,
          69.22493169398908,
          69.19375,
          69.08125,
          68.7125,
          68.2,
          68.03125,
          67.7625,
          67.7125,
          67.70625,
          67.575,
          67.55625,
          66.7625,
          66.65625,
          66.48125,
          66.1625,
          65.8875,
          65.6375,
          65.41875,
          65.1625,
          65.15,
          64.75625,
          64.61874999999999,
          64.5,
          64.34375,
          64.2,
          63.8625,
          62.8,
          62.74375,
          62.56875,
          62.38125,
          62.24375,
          61.825,
          61.68125,
          61.58125,
          60.8625,
          60.75625,
          60.6875,
          60.4,
          59.86875,
          59.4625,
          59.3125,
          59.1125,
          59.04375,
          58.19375,
          57.56875,
          57.525,
          57.5,
          57.48125,
          56.98125,
          56.6625,
          56.05,
          56.0125,
          56.00625,
          55.70625,
          55.6875,
          55.64375,
          55.5375,
          55.36875,
          55.3125,
          54.9375,
          54.01875,
          53.90625,
          53.875,
          53.39375,
          53.31875,
          51.35625,
          51.325,
          50.4875,
          50.3875,
          50.3875,
          49.89375,
          49.01875,
          48.78125,
          48.5125,
          46.1125
         ],
         "yaxis": "y"
        }
       ],
       "layout": {
        "barmode": "relative",
        "legend": {
         "tracegroupgap": 0
        },
        "margin": {
         "t": 60
        },
        "template": {
         "data": {
          "bar": [
           {
            "error_x": {
             "color": "#f2f5fa"
            },
            "error_y": {
             "color": "#f2f5fa"
            },
            "marker": {
             "line": {
              "color": "rgb(17,17,17)",
              "width": 0.5
             },
             "pattern": {
              "fillmode": "overlay",
              "size": 10,
              "solidity": 0.2
             }
            },
            "type": "bar"
           }
          ],
          "barpolar": [
           {
            "marker": {
             "line": {
              "color": "rgb(17,17,17)",
              "width": 0.5
             },
             "pattern": {
              "fillmode": "overlay",
              "size": 10,
              "solidity": 0.2
             }
            },
            "type": "barpolar"
           }
          ],
          "carpet": [
           {
            "aaxis": {
             "endlinecolor": "#A2B1C6",
             "gridcolor": "#506784",
             "linecolor": "#506784",
             "minorgridcolor": "#506784",
             "startlinecolor": "#A2B1C6"
            },
            "baxis": {
             "endlinecolor": "#A2B1C6",
             "gridcolor": "#506784",
             "linecolor": "#506784",
             "minorgridcolor": "#506784",
             "startlinecolor": "#A2B1C6"
            },
            "type": "carpet"
           }
          ],
          "choropleth": [
           {
            "colorbar": {
             "outlinewidth": 0,
             "ticks": ""
            },
            "type": "choropleth"
           }
          ],
          "contour": [
           {
            "colorbar": {
             "outlinewidth": 0,
             "ticks": ""
            },
            "colorscale": [
             [
              0,
              "#0d0887"
             ],
             [
              0.1111111111111111,
              "#46039f"
             ],
             [
              0.2222222222222222,
              "#7201a8"
             ],
             [
              0.3333333333333333,
              "#9c179e"
             ],
             [
              0.4444444444444444,
              "#bd3786"
             ],
             [
              0.5555555555555556,
              "#d8576b"
             ],
             [
              0.6666666666666666,
              "#ed7953"
             ],
             [
              0.7777777777777778,
              "#fb9f3a"
             ],
             [
              0.8888888888888888,
              "#fdca26"
             ],
             [
              1,
              "#f0f921"
             ]
            ],
            "type": "contour"
           }
          ],
          "contourcarpet": [
           {
            "colorbar": {
             "outlinewidth": 0,
             "ticks": ""
            },
            "type": "contourcarpet"
           }
          ],
          "heatmap": [
           {
            "colorbar": {
             "outlinewidth": 0,
             "ticks": ""
            },
            "colorscale": [
             [
              0,
              "#0d0887"
             ],
             [
              0.1111111111111111,
              "#46039f"
             ],
             [
              0.2222222222222222,
              "#7201a8"
             ],
             [
              0.3333333333333333,
              "#9c179e"
             ],
             [
              0.4444444444444444,
              "#bd3786"
             ],
             [
              0.5555555555555556,
              "#d8576b"
             ],
             [
              0.6666666666666666,
              "#ed7953"
             ],
             [
              0.7777777777777778,
              "#fb9f3a"
             ],
             [
              0.8888888888888888,
              "#fdca26"
             ],
             [
              1,
              "#f0f921"
             ]
            ],
            "type": "heatmap"
           }
          ],
          "heatmapgl": [
           {
            "colorbar": {
             "outlinewidth": 0,
             "ticks": ""
            },
            "colorscale": [
             [
              0,
              "#0d0887"
             ],
             [
              0.1111111111111111,
              "#46039f"
             ],
             [
              0.2222222222222222,
              "#7201a8"
             ],
             [
              0.3333333333333333,
              "#9c179e"
             ],
             [
              0.4444444444444444,
              "#bd3786"
             ],
             [
              0.5555555555555556,
              "#d8576b"
             ],
             [
              0.6666666666666666,
              "#ed7953"
             ],
             [
              0.7777777777777778,
              "#fb9f3a"
             ],
             [
              0.8888888888888888,
              "#fdca26"
             ],
             [
              1,
              "#f0f921"
             ]
            ],
            "type": "heatmapgl"
           }
          ],
          "histogram": [
           {
            "marker": {
             "pattern": {
              "fillmode": "overlay",
              "size": 10,
              "solidity": 0.2
             }
            },
            "type": "histogram"
           }
          ],
          "histogram2d": [
           {
            "colorbar": {
             "outlinewidth": 0,
             "ticks": ""
            },
            "colorscale": [
             [
              0,
              "#0d0887"
             ],
             [
              0.1111111111111111,
              "#46039f"
             ],
             [
              0.2222222222222222,
              "#7201a8"
             ],
             [
              0.3333333333333333,
              "#9c179e"
             ],
             [
              0.4444444444444444,
              "#bd3786"
             ],
             [
              0.5555555555555556,
              "#d8576b"
             ],
             [
              0.6666666666666666,
              "#ed7953"
             ],
             [
              0.7777777777777778,
              "#fb9f3a"
             ],
             [
              0.8888888888888888,
              "#fdca26"
             ],
             [
              1,
              "#f0f921"
             ]
            ],
            "type": "histogram2d"
           }
          ],
          "histogram2dcontour": [
           {
            "colorbar": {
             "outlinewidth": 0,
             "ticks": ""
            },
            "colorscale": [
             [
              0,
              "#0d0887"
             ],
             [
              0.1111111111111111,
              "#46039f"
             ],
             [
              0.2222222222222222,
              "#7201a8"
             ],
             [
              0.3333333333333333,
              "#9c179e"
             ],
             [
              0.4444444444444444,
              "#bd3786"
             ],
             [
              0.5555555555555556,
              "#d8576b"
             ],
             [
              0.6666666666666666,
              "#ed7953"
             ],
             [
              0.7777777777777778,
              "#fb9f3a"
             ],
             [
              0.8888888888888888,
              "#fdca26"
             ],
             [
              1,
              "#f0f921"
             ]
            ],
            "type": "histogram2dcontour"
           }
          ],
          "mesh3d": [
           {
            "colorbar": {
             "outlinewidth": 0,
             "ticks": ""
            },
            "type": "mesh3d"
           }
          ],
          "parcoords": [
           {
            "line": {
             "colorbar": {
              "outlinewidth": 0,
              "ticks": ""
             }
            },
            "type": "parcoords"
           }
          ],
          "pie": [
           {
            "automargin": true,
            "type": "pie"
           }
          ],
          "scatter": [
           {
            "marker": {
             "line": {
              "color": "#283442"
             }
            },
            "type": "scatter"
           }
          ],
          "scatter3d": [
           {
            "line": {
             "colorbar": {
              "outlinewidth": 0,
              "ticks": ""
             }
            },
            "marker": {
             "colorbar": {
              "outlinewidth": 0,
              "ticks": ""
             }
            },
            "type": "scatter3d"
           }
          ],
          "scattercarpet": [
           {
            "marker": {
             "colorbar": {
              "outlinewidth": 0,
              "ticks": ""
             }
            },
            "type": "scattercarpet"
           }
          ],
          "scattergeo": [
           {
            "marker": {
             "colorbar": {
              "outlinewidth": 0,
              "ticks": ""
             }
            },
            "type": "scattergeo"
           }
          ],
          "scattergl": [
           {
            "marker": {
             "line": {
              "color": "#283442"
             }
            },
            "type": "scattergl"
           }
          ],
          "scattermapbox": [
           {
            "marker": {
             "colorbar": {
              "outlinewidth": 0,
              "ticks": ""
             }
            },
            "type": "scattermapbox"
           }
          ],
          "scatterpolar": [
           {
            "marker": {
             "colorbar": {
              "outlinewidth": 0,
              "ticks": ""
             }
            },
            "type": "scatterpolar"
           }
          ],
          "scatterpolargl": [
           {
            "marker": {
             "colorbar": {
              "outlinewidth": 0,
              "ticks": ""
             }
            },
            "type": "scatterpolargl"
           }
          ],
          "scatterternary": [
           {
            "marker": {
             "colorbar": {
              "outlinewidth": 0,
              "ticks": ""
             }
            },
            "type": "scatterternary"
           }
          ],
          "surface": [
           {
            "colorbar": {
             "outlinewidth": 0,
             "ticks": ""
            },
            "colorscale": [
             [
              0,
              "#0d0887"
             ],
             [
              0.1111111111111111,
              "#46039f"
             ],
             [
              0.2222222222222222,
              "#7201a8"
             ],
             [
              0.3333333333333333,
              "#9c179e"
             ],
             [
              0.4444444444444444,
              "#bd3786"
             ],
             [
              0.5555555555555556,
              "#d8576b"
             ],
             [
              0.6666666666666666,
              "#ed7953"
             ],
             [
              0.7777777777777778,
              "#fb9f3a"
             ],
             [
              0.8888888888888888,
              "#fdca26"
             ],
             [
              1,
              "#f0f921"
             ]
            ],
            "type": "surface"
           }
          ],
          "table": [
           {
            "cells": {
             "fill": {
              "color": "#506784"
             },
             "line": {
              "color": "rgb(17,17,17)"
             }
            },
            "header": {
             "fill": {
              "color": "#2a3f5f"
             },
             "line": {
              "color": "rgb(17,17,17)"
             }
            },
            "type": "table"
           }
          ]
         },
         "layout": {
          "annotationdefaults": {
           "arrowcolor": "#f2f5fa",
           "arrowhead": 0,
           "arrowwidth": 1
          },
          "autotypenumbers": "strict",
          "coloraxis": {
           "colorbar": {
            "outlinewidth": 0,
            "ticks": ""
           }
          },
          "colorscale": {
           "diverging": [
            [
             0,
             "#8e0152"
            ],
            [
             0.1,
             "#c51b7d"
            ],
            [
             0.2,
             "#de77ae"
            ],
            [
             0.3,
             "#f1b6da"
            ],
            [
             0.4,
             "#fde0ef"
            ],
            [
             0.5,
             "#f7f7f7"
            ],
            [
             0.6,
             "#e6f5d0"
            ],
            [
             0.7,
             "#b8e186"
            ],
            [
             0.8,
             "#7fbc41"
            ],
            [
             0.9,
             "#4d9221"
            ],
            [
             1,
             "#276419"
            ]
           ],
           "sequential": [
            [
             0,
             "#0d0887"
            ],
            [
             0.1111111111111111,
             "#46039f"
            ],
            [
             0.2222222222222222,
             "#7201a8"
            ],
            [
             0.3333333333333333,
             "#9c179e"
            ],
            [
             0.4444444444444444,
             "#bd3786"
            ],
            [
             0.5555555555555556,
             "#d8576b"
            ],
            [
             0.6666666666666666,
             "#ed7953"
            ],
            [
             0.7777777777777778,
             "#fb9f3a"
            ],
            [
             0.8888888888888888,
             "#fdca26"
            ],
            [
             1,
             "#f0f921"
            ]
           ],
           "sequentialminus": [
            [
             0,
             "#0d0887"
            ],
            [
             0.1111111111111111,
             "#46039f"
            ],
            [
             0.2222222222222222,
             "#7201a8"
            ],
            [
             0.3333333333333333,
             "#9c179e"
            ],
            [
             0.4444444444444444,
             "#bd3786"
            ],
            [
             0.5555555555555556,
             "#d8576b"
            ],
            [
             0.6666666666666666,
             "#ed7953"
            ],
            [
             0.7777777777777778,
             "#fb9f3a"
            ],
            [
             0.8888888888888888,
             "#fdca26"
            ],
            [
             1,
             "#f0f921"
            ]
           ]
          },
          "colorway": [
           "#636efa",
           "#EF553B",
           "#00cc96",
           "#ab63fa",
           "#FFA15A",
           "#19d3f3",
           "#FF6692",
           "#B6E880",
           "#FF97FF",
           "#FECB52"
          ],
          "font": {
           "color": "#f2f5fa"
          },
          "geo": {
           "bgcolor": "rgb(17,17,17)",
           "lakecolor": "rgb(17,17,17)",
           "landcolor": "rgb(17,17,17)",
           "showlakes": true,
           "showland": true,
           "subunitcolor": "#506784"
          },
          "hoverlabel": {
           "align": "left"
          },
          "hovermode": "closest",
          "mapbox": {
           "style": "dark"
          },
          "paper_bgcolor": "rgb(17,17,17)",
          "plot_bgcolor": "rgb(17,17,17)",
          "polar": {
           "angularaxis": {
            "gridcolor": "#506784",
            "linecolor": "#506784",
            "ticks": ""
           },
           "bgcolor": "rgb(17,17,17)",
           "radialaxis": {
            "gridcolor": "#506784",
            "linecolor": "#506784",
            "ticks": ""
           }
          },
          "scene": {
           "xaxis": {
            "backgroundcolor": "rgb(17,17,17)",
            "gridcolor": "#506784",
            "gridwidth": 2,
            "linecolor": "#506784",
            "showbackground": true,
            "ticks": "",
            "zerolinecolor": "#C8D4E3"
           },
           "yaxis": {
            "backgroundcolor": "rgb(17,17,17)",
            "gridcolor": "#506784",
            "gridwidth": 2,
            "linecolor": "#506784",
            "showbackground": true,
            "ticks": "",
            "zerolinecolor": "#C8D4E3"
           },
           "zaxis": {
            "backgroundcolor": "rgb(17,17,17)",
            "gridcolor": "#506784",
            "gridwidth": 2,
            "linecolor": "#506784",
            "showbackground": true,
            "ticks": "",
            "zerolinecolor": "#C8D4E3"
           }
          },
          "shapedefaults": {
           "line": {
            "color": "#f2f5fa"
           }
          },
          "sliderdefaults": {
           "bgcolor": "#C8D4E3",
           "bordercolor": "rgb(17,17,17)",
           "borderwidth": 1,
           "tickwidth": 0
          },
          "ternary": {
           "aaxis": {
            "gridcolor": "#506784",
            "linecolor": "#506784",
            "ticks": ""
           },
           "baxis": {
            "gridcolor": "#506784",
            "linecolor": "#506784",
            "ticks": ""
           },
           "bgcolor": "rgb(17,17,17)",
           "caxis": {
            "gridcolor": "#506784",
            "linecolor": "#506784",
            "ticks": ""
           }
          },
          "title": {
           "x": 0.05
          },
          "updatemenudefaults": {
           "bgcolor": "#506784",
           "borderwidth": 0
          },
          "xaxis": {
           "automargin": true,
           "gridcolor": "#283442",
           "linecolor": "#506784",
           "ticks": "",
           "title": {
            "standoff": 15
           },
           "zerolinecolor": "#283442",
           "zerolinewidth": 2
          },
          "yaxis": {
           "automargin": true,
           "gridcolor": "#283442",
           "linecolor": "#506784",
           "ticks": "",
           "title": {
            "standoff": 15
           },
           "zerolinecolor": "#283442",
           "zerolinewidth": 2
          }
         }
        },
        "xaxis": {
         "anchor": "y",
         "domain": [
          0,
          1
         ],
         "title": {
          "text": "Country"
         }
        },
        "yaxis": {
         "anchor": "x",
         "domain": [
          0,
          1
         ],
         "title": {
          "text": "Life expectancy "
         }
        }
       }
      }
     },
     "metadata": {},
     "output_type": "display_data"
    }
   ],
   "source": [
    "mean_by_country = df.groupby('Country')['Life expectancy '].mean().reset_index()\n",
    "\n",
    "mean_by_country = mean_by_country.sort_values('Life expectancy ',ascending=False)\n",
    "fig = px.bar(mean_by_country, x='Country', y='Life expectancy ',template='plotly_dark')\n",
    "fig.show()"
   ]
  },
  {
   "cell_type": "code",
   "execution_count": 28,
   "metadata": {},
   "outputs": [
    {
     "data": {
      "text/plain": [
       "(16, 22)"
      ]
     },
     "execution_count": 28,
     "metadata": {},
     "output_type": "execute_result"
    }
   ],
   "source": [
    "# get df with only mexico\n",
    "mexico = df[df['Country']=='Mexico']\n",
    "mexico.shape"
   ]
  },
  {
   "cell_type": "code",
   "execution_count": 29,
   "metadata": {},
   "outputs": [
    {
     "data": {
      "application/vnd.plotly.v1+json": {
       "config": {
        "plotlyServerURL": "https://plot.ly"
       },
       "data": [
        {
         "hovertemplate": "Year=%{x}<br>Life expectancy =%{y}<extra></extra>",
         "legendgroup": "",
         "line": {
          "color": "#636efa",
          "dash": "solid"
         },
         "marker": {
          "symbol": "circle"
         },
         "mode": "lines",
         "name": "",
         "orientation": "v",
         "showlegend": false,
         "type": "scatter",
         "x": [
          2000,
          2001,
          2002,
          2003,
          2004,
          2005,
          2006,
          2007,
          2008,
          2009,
          2010,
          2011,
          2012,
          2013,
          2014,
          2015
         ],
         "xaxis": "x",
         "y": [
          74.8,
          75,
          75,
          75,
          75.4,
          75.3,
          75.8,
          76,
          75.6,
          75.7,
          75.6,
          76.1,
          76.3,
          76.6,
          76.6,
          76.7
         ],
         "yaxis": "y"
        }
       ],
       "layout": {
        "legend": {
         "tracegroupgap": 0
        },
        "margin": {
         "t": 60
        },
        "template": {
         "data": {
          "bar": [
           {
            "error_x": {
             "color": "#f2f5fa"
            },
            "error_y": {
             "color": "#f2f5fa"
            },
            "marker": {
             "line": {
              "color": "rgb(17,17,17)",
              "width": 0.5
             },
             "pattern": {
              "fillmode": "overlay",
              "size": 10,
              "solidity": 0.2
             }
            },
            "type": "bar"
           }
          ],
          "barpolar": [
           {
            "marker": {
             "line": {
              "color": "rgb(17,17,17)",
              "width": 0.5
             },
             "pattern": {
              "fillmode": "overlay",
              "size": 10,
              "solidity": 0.2
             }
            },
            "type": "barpolar"
           }
          ],
          "carpet": [
           {
            "aaxis": {
             "endlinecolor": "#A2B1C6",
             "gridcolor": "#506784",
             "linecolor": "#506784",
             "minorgridcolor": "#506784",
             "startlinecolor": "#A2B1C6"
            },
            "baxis": {
             "endlinecolor": "#A2B1C6",
             "gridcolor": "#506784",
             "linecolor": "#506784",
             "minorgridcolor": "#506784",
             "startlinecolor": "#A2B1C6"
            },
            "type": "carpet"
           }
          ],
          "choropleth": [
           {
            "colorbar": {
             "outlinewidth": 0,
             "ticks": ""
            },
            "type": "choropleth"
           }
          ],
          "contour": [
           {
            "colorbar": {
             "outlinewidth": 0,
             "ticks": ""
            },
            "colorscale": [
             [
              0,
              "#0d0887"
             ],
             [
              0.1111111111111111,
              "#46039f"
             ],
             [
              0.2222222222222222,
              "#7201a8"
             ],
             [
              0.3333333333333333,
              "#9c179e"
             ],
             [
              0.4444444444444444,
              "#bd3786"
             ],
             [
              0.5555555555555556,
              "#d8576b"
             ],
             [
              0.6666666666666666,
              "#ed7953"
             ],
             [
              0.7777777777777778,
              "#fb9f3a"
             ],
             [
              0.8888888888888888,
              "#fdca26"
             ],
             [
              1,
              "#f0f921"
             ]
            ],
            "type": "contour"
           }
          ],
          "contourcarpet": [
           {
            "colorbar": {
             "outlinewidth": 0,
             "ticks": ""
            },
            "type": "contourcarpet"
           }
          ],
          "heatmap": [
           {
            "colorbar": {
             "outlinewidth": 0,
             "ticks": ""
            },
            "colorscale": [
             [
              0,
              "#0d0887"
             ],
             [
              0.1111111111111111,
              "#46039f"
             ],
             [
              0.2222222222222222,
              "#7201a8"
             ],
             [
              0.3333333333333333,
              "#9c179e"
             ],
             [
              0.4444444444444444,
              "#bd3786"
             ],
             [
              0.5555555555555556,
              "#d8576b"
             ],
             [
              0.6666666666666666,
              "#ed7953"
             ],
             [
              0.7777777777777778,
              "#fb9f3a"
             ],
             [
              0.8888888888888888,
              "#fdca26"
             ],
             [
              1,
              "#f0f921"
             ]
            ],
            "type": "heatmap"
           }
          ],
          "heatmapgl": [
           {
            "colorbar": {
             "outlinewidth": 0,
             "ticks": ""
            },
            "colorscale": [
             [
              0,
              "#0d0887"
             ],
             [
              0.1111111111111111,
              "#46039f"
             ],
             [
              0.2222222222222222,
              "#7201a8"
             ],
             [
              0.3333333333333333,
              "#9c179e"
             ],
             [
              0.4444444444444444,
              "#bd3786"
             ],
             [
              0.5555555555555556,
              "#d8576b"
             ],
             [
              0.6666666666666666,
              "#ed7953"
             ],
             [
              0.7777777777777778,
              "#fb9f3a"
             ],
             [
              0.8888888888888888,
              "#fdca26"
             ],
             [
              1,
              "#f0f921"
             ]
            ],
            "type": "heatmapgl"
           }
          ],
          "histogram": [
           {
            "marker": {
             "pattern": {
              "fillmode": "overlay",
              "size": 10,
              "solidity": 0.2
             }
            },
            "type": "histogram"
           }
          ],
          "histogram2d": [
           {
            "colorbar": {
             "outlinewidth": 0,
             "ticks": ""
            },
            "colorscale": [
             [
              0,
              "#0d0887"
             ],
             [
              0.1111111111111111,
              "#46039f"
             ],
             [
              0.2222222222222222,
              "#7201a8"
             ],
             [
              0.3333333333333333,
              "#9c179e"
             ],
             [
              0.4444444444444444,
              "#bd3786"
             ],
             [
              0.5555555555555556,
              "#d8576b"
             ],
             [
              0.6666666666666666,
              "#ed7953"
             ],
             [
              0.7777777777777778,
              "#fb9f3a"
             ],
             [
              0.8888888888888888,
              "#fdca26"
             ],
             [
              1,
              "#f0f921"
             ]
            ],
            "type": "histogram2d"
           }
          ],
          "histogram2dcontour": [
           {
            "colorbar": {
             "outlinewidth": 0,
             "ticks": ""
            },
            "colorscale": [
             [
              0,
              "#0d0887"
             ],
             [
              0.1111111111111111,
              "#46039f"
             ],
             [
              0.2222222222222222,
              "#7201a8"
             ],
             [
              0.3333333333333333,
              "#9c179e"
             ],
             [
              0.4444444444444444,
              "#bd3786"
             ],
             [
              0.5555555555555556,
              "#d8576b"
             ],
             [
              0.6666666666666666,
              "#ed7953"
             ],
             [
              0.7777777777777778,
              "#fb9f3a"
             ],
             [
              0.8888888888888888,
              "#fdca26"
             ],
             [
              1,
              "#f0f921"
             ]
            ],
            "type": "histogram2dcontour"
           }
          ],
          "mesh3d": [
           {
            "colorbar": {
             "outlinewidth": 0,
             "ticks": ""
            },
            "type": "mesh3d"
           }
          ],
          "parcoords": [
           {
            "line": {
             "colorbar": {
              "outlinewidth": 0,
              "ticks": ""
             }
            },
            "type": "parcoords"
           }
          ],
          "pie": [
           {
            "automargin": true,
            "type": "pie"
           }
          ],
          "scatter": [
           {
            "marker": {
             "line": {
              "color": "#283442"
             }
            },
            "type": "scatter"
           }
          ],
          "scatter3d": [
           {
            "line": {
             "colorbar": {
              "outlinewidth": 0,
              "ticks": ""
             }
            },
            "marker": {
             "colorbar": {
              "outlinewidth": 0,
              "ticks": ""
             }
            },
            "type": "scatter3d"
           }
          ],
          "scattercarpet": [
           {
            "marker": {
             "colorbar": {
              "outlinewidth": 0,
              "ticks": ""
             }
            },
            "type": "scattercarpet"
           }
          ],
          "scattergeo": [
           {
            "marker": {
             "colorbar": {
              "outlinewidth": 0,
              "ticks": ""
             }
            },
            "type": "scattergeo"
           }
          ],
          "scattergl": [
           {
            "marker": {
             "line": {
              "color": "#283442"
             }
            },
            "type": "scattergl"
           }
          ],
          "scattermapbox": [
           {
            "marker": {
             "colorbar": {
              "outlinewidth": 0,
              "ticks": ""
             }
            },
            "type": "scattermapbox"
           }
          ],
          "scatterpolar": [
           {
            "marker": {
             "colorbar": {
              "outlinewidth": 0,
              "ticks": ""
             }
            },
            "type": "scatterpolar"
           }
          ],
          "scatterpolargl": [
           {
            "marker": {
             "colorbar": {
              "outlinewidth": 0,
              "ticks": ""
             }
            },
            "type": "scatterpolargl"
           }
          ],
          "scatterternary": [
           {
            "marker": {
             "colorbar": {
              "outlinewidth": 0,
              "ticks": ""
             }
            },
            "type": "scatterternary"
           }
          ],
          "surface": [
           {
            "colorbar": {
             "outlinewidth": 0,
             "ticks": ""
            },
            "colorscale": [
             [
              0,
              "#0d0887"
             ],
             [
              0.1111111111111111,
              "#46039f"
             ],
             [
              0.2222222222222222,
              "#7201a8"
             ],
             [
              0.3333333333333333,
              "#9c179e"
             ],
             [
              0.4444444444444444,
              "#bd3786"
             ],
             [
              0.5555555555555556,
              "#d8576b"
             ],
             [
              0.6666666666666666,
              "#ed7953"
             ],
             [
              0.7777777777777778,
              "#fb9f3a"
             ],
             [
              0.8888888888888888,
              "#fdca26"
             ],
             [
              1,
              "#f0f921"
             ]
            ],
            "type": "surface"
           }
          ],
          "table": [
           {
            "cells": {
             "fill": {
              "color": "#506784"
             },
             "line": {
              "color": "rgb(17,17,17)"
             }
            },
            "header": {
             "fill": {
              "color": "#2a3f5f"
             },
             "line": {
              "color": "rgb(17,17,17)"
             }
            },
            "type": "table"
           }
          ]
         },
         "layout": {
          "annotationdefaults": {
           "arrowcolor": "#f2f5fa",
           "arrowhead": 0,
           "arrowwidth": 1
          },
          "autotypenumbers": "strict",
          "coloraxis": {
           "colorbar": {
            "outlinewidth": 0,
            "ticks": ""
           }
          },
          "colorscale": {
           "diverging": [
            [
             0,
             "#8e0152"
            ],
            [
             0.1,
             "#c51b7d"
            ],
            [
             0.2,
             "#de77ae"
            ],
            [
             0.3,
             "#f1b6da"
            ],
            [
             0.4,
             "#fde0ef"
            ],
            [
             0.5,
             "#f7f7f7"
            ],
            [
             0.6,
             "#e6f5d0"
            ],
            [
             0.7,
             "#b8e186"
            ],
            [
             0.8,
             "#7fbc41"
            ],
            [
             0.9,
             "#4d9221"
            ],
            [
             1,
             "#276419"
            ]
           ],
           "sequential": [
            [
             0,
             "#0d0887"
            ],
            [
             0.1111111111111111,
             "#46039f"
            ],
            [
             0.2222222222222222,
             "#7201a8"
            ],
            [
             0.3333333333333333,
             "#9c179e"
            ],
            [
             0.4444444444444444,
             "#bd3786"
            ],
            [
             0.5555555555555556,
             "#d8576b"
            ],
            [
             0.6666666666666666,
             "#ed7953"
            ],
            [
             0.7777777777777778,
             "#fb9f3a"
            ],
            [
             0.8888888888888888,
             "#fdca26"
            ],
            [
             1,
             "#f0f921"
            ]
           ],
           "sequentialminus": [
            [
             0,
             "#0d0887"
            ],
            [
             0.1111111111111111,
             "#46039f"
            ],
            [
             0.2222222222222222,
             "#7201a8"
            ],
            [
             0.3333333333333333,
             "#9c179e"
            ],
            [
             0.4444444444444444,
             "#bd3786"
            ],
            [
             0.5555555555555556,
             "#d8576b"
            ],
            [
             0.6666666666666666,
             "#ed7953"
            ],
            [
             0.7777777777777778,
             "#fb9f3a"
            ],
            [
             0.8888888888888888,
             "#fdca26"
            ],
            [
             1,
             "#f0f921"
            ]
           ]
          },
          "colorway": [
           "#636efa",
           "#EF553B",
           "#00cc96",
           "#ab63fa",
           "#FFA15A",
           "#19d3f3",
           "#FF6692",
           "#B6E880",
           "#FF97FF",
           "#FECB52"
          ],
          "font": {
           "color": "#f2f5fa"
          },
          "geo": {
           "bgcolor": "rgb(17,17,17)",
           "lakecolor": "rgb(17,17,17)",
           "landcolor": "rgb(17,17,17)",
           "showlakes": true,
           "showland": true,
           "subunitcolor": "#506784"
          },
          "hoverlabel": {
           "align": "left"
          },
          "hovermode": "closest",
          "mapbox": {
           "style": "dark"
          },
          "paper_bgcolor": "rgb(17,17,17)",
          "plot_bgcolor": "rgb(17,17,17)",
          "polar": {
           "angularaxis": {
            "gridcolor": "#506784",
            "linecolor": "#506784",
            "ticks": ""
           },
           "bgcolor": "rgb(17,17,17)",
           "radialaxis": {
            "gridcolor": "#506784",
            "linecolor": "#506784",
            "ticks": ""
           }
          },
          "scene": {
           "xaxis": {
            "backgroundcolor": "rgb(17,17,17)",
            "gridcolor": "#506784",
            "gridwidth": 2,
            "linecolor": "#506784",
            "showbackground": true,
            "ticks": "",
            "zerolinecolor": "#C8D4E3"
           },
           "yaxis": {
            "backgroundcolor": "rgb(17,17,17)",
            "gridcolor": "#506784",
            "gridwidth": 2,
            "linecolor": "#506784",
            "showbackground": true,
            "ticks": "",
            "zerolinecolor": "#C8D4E3"
           },
           "zaxis": {
            "backgroundcolor": "rgb(17,17,17)",
            "gridcolor": "#506784",
            "gridwidth": 2,
            "linecolor": "#506784",
            "showbackground": true,
            "ticks": "",
            "zerolinecolor": "#C8D4E3"
           }
          },
          "shapedefaults": {
           "line": {
            "color": "#f2f5fa"
           }
          },
          "sliderdefaults": {
           "bgcolor": "#C8D4E3",
           "bordercolor": "rgb(17,17,17)",
           "borderwidth": 1,
           "tickwidth": 0
          },
          "ternary": {
           "aaxis": {
            "gridcolor": "#506784",
            "linecolor": "#506784",
            "ticks": ""
           },
           "baxis": {
            "gridcolor": "#506784",
            "linecolor": "#506784",
            "ticks": ""
           },
           "bgcolor": "rgb(17,17,17)",
           "caxis": {
            "gridcolor": "#506784",
            "linecolor": "#506784",
            "ticks": ""
           }
          },
          "title": {
           "x": 0.05
          },
          "updatemenudefaults": {
           "bgcolor": "#506784",
           "borderwidth": 0
          },
          "xaxis": {
           "automargin": true,
           "gridcolor": "#283442",
           "linecolor": "#506784",
           "ticks": "",
           "title": {
            "standoff": 15
           },
           "zerolinecolor": "#283442",
           "zerolinewidth": 2
          },
          "yaxis": {
           "automargin": true,
           "gridcolor": "#283442",
           "linecolor": "#506784",
           "ticks": "",
           "title": {
            "standoff": 15
           },
           "zerolinecolor": "#283442",
           "zerolinewidth": 2
          }
         }
        },
        "xaxis": {
         "anchor": "y",
         "domain": [
          0,
          1
         ],
         "title": {
          "text": "Year"
         }
        },
        "yaxis": {
         "anchor": "x",
         "domain": [
          0,
          1
         ],
         "title": {
          "text": "Life expectancy "
         }
        }
       }
      }
     },
     "metadata": {},
     "output_type": "display_data"
    }
   ],
   "source": [
    "by_year = mexico.groupby('Year')['Life expectancy '].mean().reset_index()\n",
    "\n",
    "fig = px.line(by_year, x='Year', y='Life expectancy ',template='plotly_dark')\n",
    "fig.show()"
   ]
  },
  {
   "attachments": {},
   "cell_type": "markdown",
   "metadata": {},
   "source": [
    "# Conclusiones\n",
    "\n",
    "- En todos los casos, la esperanza de vida siempre aumenta con respescto al tiempo.\n",
    "- Japón es el país con la esperanza de vida mas alta, mientras que Sierra Leone es el mas bajo. "
   ]
  }
 ],
 "metadata": {
  "kernelspec": {
   "display_name": "Python 3 (ipykernel)",
   "language": "python",
   "name": "python3"
  },
  "language_info": {
   "codemirror_mode": {
    "name": "ipython",
    "version": 3
   },
   "file_extension": ".py",
   "mimetype": "text/x-python",
   "name": "python",
   "nbconvert_exporter": "python",
   "pygments_lexer": "ipython3",
   "version": "3.11.5"
  }
 },
 "nbformat": 4,
 "nbformat_minor": 4
}
